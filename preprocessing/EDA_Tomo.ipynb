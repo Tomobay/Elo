{
 "cells": [
  {
   "cell_type": "markdown",
   "metadata": {},
   "source": [
    "## Module 読み込み"
   ]
  },
  {
   "cell_type": "code",
   "execution_count": 2,
   "metadata": {},
   "outputs": [
    {
     "data": {
      "text/html": [
       "<script type=\"text/javascript\">window.PlotlyConfig = {MathJaxConfig: 'local'};</script><script type=\"text/javascript\">if (window.MathJax) {MathJax.Hub.Config({SVG: {font: \"STIX-Web\"}});}</script><script>requirejs.config({paths: { 'plotly': ['https://cdn.plot.ly/plotly-latest.min']},});if(!window._Plotly) {require(['plotly'],function(plotly) {window._Plotly=plotly;});}</script>"
      ],
      "text/vnd.plotly.v1+html": [
       "<script type=\"text/javascript\">window.PlotlyConfig = {MathJaxConfig: 'local'};</script><script type=\"text/javascript\">if (window.MathJax) {MathJax.Hub.Config({SVG: {font: \"STIX-Web\"}});}</script><script>requirejs.config({paths: { 'plotly': ['https://cdn.plot.ly/plotly-latest.min']},});if(!window._Plotly) {require(['plotly'],function(plotly) {window._Plotly=plotly;});}</script>"
      ]
     },
     "metadata": {},
     "output_type": "display_data"
    }
   ],
   "source": [
    "import pandas as pd \n",
    "from matplotlib import pyplot as plt\n",
    "import seaborn as sns\n",
    "%matplotlib inline\n",
    "import plotly.offline as py\n",
    "py.init_notebook_mode(connected=True)\n",
    "import plotly.graph_objs as go\n",
    "import plotly.tools as tls\n",
    "plt.style.use('ggplot')\n",
    "import numpy as np\n",
    "import gc\n",
    "import datetime\n"
   ]
  },
  {
   "cell_type": "markdown",
   "metadata": {},
   "source": [
    "## データ読み込み"
   ]
  },
  {
   "cell_type": "code",
   "execution_count": 2,
   "metadata": {},
   "outputs": [
    {
     "data": {
      "text/html": [
       "<div>\n",
       "<style>\n",
       "    .dataframe thead tr:only-child th {\n",
       "        text-align: right;\n",
       "    }\n",
       "\n",
       "    .dataframe thead th {\n",
       "        text-align: left;\n",
       "    }\n",
       "\n",
       "    .dataframe tbody tr th {\n",
       "        vertical-align: top;\n",
       "    }\n",
       "</style>\n",
       "<table border=\"1\" class=\"dataframe\">\n",
       "  <thead>\n",
       "    <tr style=\"text-align: right;\">\n",
       "      <th></th>\n",
       "      <th>first_active_month</th>\n",
       "      <th>card_id</th>\n",
       "      <th>feature_1</th>\n",
       "      <th>feature_2</th>\n",
       "      <th>feature_3</th>\n",
       "      <th>target</th>\n",
       "    </tr>\n",
       "  </thead>\n",
       "  <tbody>\n",
       "    <tr>\n",
       "      <th>0</th>\n",
       "      <td>2017-06-01</td>\n",
       "      <td>C_ID_92a2005557</td>\n",
       "      <td>5</td>\n",
       "      <td>2</td>\n",
       "      <td>1</td>\n",
       "      <td>-0.820283</td>\n",
       "    </tr>\n",
       "    <tr>\n",
       "      <th>1</th>\n",
       "      <td>2017-01-01</td>\n",
       "      <td>C_ID_3d0044924f</td>\n",
       "      <td>4</td>\n",
       "      <td>1</td>\n",
       "      <td>0</td>\n",
       "      <td>0.392913</td>\n",
       "    </tr>\n",
       "    <tr>\n",
       "      <th>2</th>\n",
       "      <td>2016-08-01</td>\n",
       "      <td>C_ID_d639edf6cd</td>\n",
       "      <td>2</td>\n",
       "      <td>2</td>\n",
       "      <td>0</td>\n",
       "      <td>0.688056</td>\n",
       "    </tr>\n",
       "    <tr>\n",
       "      <th>3</th>\n",
       "      <td>2017-09-01</td>\n",
       "      <td>C_ID_186d6a6901</td>\n",
       "      <td>4</td>\n",
       "      <td>3</td>\n",
       "      <td>0</td>\n",
       "      <td>0.142495</td>\n",
       "    </tr>\n",
       "    <tr>\n",
       "      <th>4</th>\n",
       "      <td>2017-11-01</td>\n",
       "      <td>C_ID_cdbd2c0db2</td>\n",
       "      <td>1</td>\n",
       "      <td>3</td>\n",
       "      <td>0</td>\n",
       "      <td>-0.159749</td>\n",
       "    </tr>\n",
       "  </tbody>\n",
       "</table>\n",
       "</div>"
      ],
      "text/plain": [
       "  first_active_month          card_id  feature_1  feature_2  feature_3  \\\n",
       "0         2017-06-01  C_ID_92a2005557          5          2          1   \n",
       "1         2017-01-01  C_ID_3d0044924f          4          1          0   \n",
       "2         2016-08-01  C_ID_d639edf6cd          2          2          0   \n",
       "3         2017-09-01  C_ID_186d6a6901          4          3          0   \n",
       "4         2017-11-01  C_ID_cdbd2c0db2          1          3          0   \n",
       "\n",
       "     target  \n",
       "0 -0.820283  \n",
       "1  0.392913  \n",
       "2  0.688056  \n",
       "3  0.142495  \n",
       "4 -0.159749  "
      ]
     },
     "metadata": {},
     "output_type": "display_data"
    },
    {
     "data": {
      "text/html": [
       "<div>\n",
       "<style>\n",
       "    .dataframe thead tr:only-child th {\n",
       "        text-align: right;\n",
       "    }\n",
       "\n",
       "    .dataframe thead th {\n",
       "        text-align: left;\n",
       "    }\n",
       "\n",
       "    .dataframe tbody tr th {\n",
       "        vertical-align: top;\n",
       "    }\n",
       "</style>\n",
       "<table border=\"1\" class=\"dataframe\">\n",
       "  <thead>\n",
       "    <tr style=\"text-align: right;\">\n",
       "      <th></th>\n",
       "      <th>first_active_month</th>\n",
       "      <th>card_id</th>\n",
       "      <th>feature_1</th>\n",
       "      <th>feature_2</th>\n",
       "      <th>feature_3</th>\n",
       "    </tr>\n",
       "  </thead>\n",
       "  <tbody>\n",
       "    <tr>\n",
       "      <th>0</th>\n",
       "      <td>2017-04-01</td>\n",
       "      <td>C_ID_0ab67a22ab</td>\n",
       "      <td>3</td>\n",
       "      <td>3</td>\n",
       "      <td>1</td>\n",
       "    </tr>\n",
       "    <tr>\n",
       "      <th>1</th>\n",
       "      <td>2017-01-01</td>\n",
       "      <td>C_ID_130fd0cbdd</td>\n",
       "      <td>2</td>\n",
       "      <td>3</td>\n",
       "      <td>0</td>\n",
       "    </tr>\n",
       "    <tr>\n",
       "      <th>2</th>\n",
       "      <td>2017-08-01</td>\n",
       "      <td>C_ID_b709037bc5</td>\n",
       "      <td>5</td>\n",
       "      <td>1</td>\n",
       "      <td>1</td>\n",
       "    </tr>\n",
       "    <tr>\n",
       "      <th>3</th>\n",
       "      <td>2017-12-01</td>\n",
       "      <td>C_ID_d27d835a9f</td>\n",
       "      <td>2</td>\n",
       "      <td>1</td>\n",
       "      <td>0</td>\n",
       "    </tr>\n",
       "    <tr>\n",
       "      <th>4</th>\n",
       "      <td>2015-12-01</td>\n",
       "      <td>C_ID_2b5e3df5c2</td>\n",
       "      <td>5</td>\n",
       "      <td>1</td>\n",
       "      <td>1</td>\n",
       "    </tr>\n",
       "  </tbody>\n",
       "</table>\n",
       "</div>"
      ],
      "text/plain": [
       "  first_active_month          card_id  feature_1  feature_2  feature_3\n",
       "0         2017-04-01  C_ID_0ab67a22ab          3          3          1\n",
       "1         2017-01-01  C_ID_130fd0cbdd          2          3          0\n",
       "2         2017-08-01  C_ID_b709037bc5          5          1          1\n",
       "3         2017-12-01  C_ID_d27d835a9f          2          1          0\n",
       "4         2015-12-01  C_ID_2b5e3df5c2          5          1          1"
      ]
     },
     "metadata": {},
     "output_type": "display_data"
    }
   ],
   "source": [
    "# Data 読み込みおよび確認\n",
    "train = pd.read_csv('../data/train.csv', engine='python', parse_dates=['first_active_month'])\n",
    "test = pd.read_csv('../data/test.csv', engine='python', parse_dates=['first_active_month'])\n",
    "display(train.head(), test.head())\n"
   ]
  },
  {
   "cell_type": "code",
   "execution_count": 3,
   "metadata": {},
   "outputs": [
    {
     "name": "stdout",
     "output_type": "stream",
     "text": [
      "<class 'pandas.core.frame.DataFrame'>\n",
      "RangeIndex: 201917 entries, 0 to 201916\n",
      "Data columns (total 6 columns):\n",
      "first_active_month    201917 non-null datetime64[ns]\n",
      "card_id               201917 non-null object\n",
      "feature_1             201917 non-null int64\n",
      "feature_2             201917 non-null int64\n",
      "feature_3             201917 non-null int64\n",
      "target                201917 non-null float64\n",
      "dtypes: datetime64[ns](1), float64(1), int64(3), object(1)\n",
      "memory usage: 9.2+ MB\n"
     ]
    }
   ],
   "source": [
    "train.info()"
   ]
  },
  {
   "cell_type": "code",
   "execution_count": 4,
   "metadata": {},
   "outputs": [
    {
     "name": "stdout",
     "output_type": "stream",
     "text": [
      "<class 'pandas.core.frame.DataFrame'>\n",
      "RangeIndex: 123623 entries, 0 to 123622\n",
      "Data columns (total 5 columns):\n",
      "first_active_month    123622 non-null datetime64[ns]\n",
      "card_id               123623 non-null object\n",
      "feature_1             123623 non-null int64\n",
      "feature_2             123623 non-null int64\n",
      "feature_3             123623 non-null int64\n",
      "dtypes: datetime64[ns](1), int64(3), object(1)\n",
      "memory usage: 4.7+ MB\n"
     ]
    }
   ],
   "source": [
    "test.info()"
   ]
  },
  {
   "cell_type": "code",
   "execution_count": 5,
   "metadata": {},
   "outputs": [
    {
     "data": {
      "text/html": [
       "<div>\n",
       "<style>\n",
       "    .dataframe thead tr:only-child th {\n",
       "        text-align: right;\n",
       "    }\n",
       "\n",
       "    .dataframe thead th {\n",
       "        text-align: left;\n",
       "    }\n",
       "\n",
       "    .dataframe tbody tr th {\n",
       "        vertical-align: top;\n",
       "    }\n",
       "</style>\n",
       "<table border=\"1\" class=\"dataframe\">\n",
       "  <thead>\n",
       "    <tr style=\"text-align: right;\">\n",
       "      <th></th>\n",
       "      <th>feature_1</th>\n",
       "      <th>feature_2</th>\n",
       "      <th>feature_3</th>\n",
       "      <th>target</th>\n",
       "    </tr>\n",
       "  </thead>\n",
       "  <tbody>\n",
       "    <tr>\n",
       "      <th>count</th>\n",
       "      <td>201917.000000</td>\n",
       "      <td>201917.000000</td>\n",
       "      <td>201917.000000</td>\n",
       "      <td>201917.000000</td>\n",
       "    </tr>\n",
       "    <tr>\n",
       "      <th>mean</th>\n",
       "      <td>3.105311</td>\n",
       "      <td>1.745410</td>\n",
       "      <td>0.565569</td>\n",
       "      <td>-0.393636</td>\n",
       "    </tr>\n",
       "    <tr>\n",
       "      <th>std</th>\n",
       "      <td>1.186160</td>\n",
       "      <td>0.751362</td>\n",
       "      <td>0.495683</td>\n",
       "      <td>3.850500</td>\n",
       "    </tr>\n",
       "    <tr>\n",
       "      <th>min</th>\n",
       "      <td>1.000000</td>\n",
       "      <td>1.000000</td>\n",
       "      <td>0.000000</td>\n",
       "      <td>-33.219281</td>\n",
       "    </tr>\n",
       "    <tr>\n",
       "      <th>25%</th>\n",
       "      <td>2.000000</td>\n",
       "      <td>1.000000</td>\n",
       "      <td>0.000000</td>\n",
       "      <td>-0.883110</td>\n",
       "    </tr>\n",
       "    <tr>\n",
       "      <th>50%</th>\n",
       "      <td>3.000000</td>\n",
       "      <td>2.000000</td>\n",
       "      <td>1.000000</td>\n",
       "      <td>-0.023437</td>\n",
       "    </tr>\n",
       "    <tr>\n",
       "      <th>75%</th>\n",
       "      <td>4.000000</td>\n",
       "      <td>2.000000</td>\n",
       "      <td>1.000000</td>\n",
       "      <td>0.765453</td>\n",
       "    </tr>\n",
       "    <tr>\n",
       "      <th>max</th>\n",
       "      <td>5.000000</td>\n",
       "      <td>3.000000</td>\n",
       "      <td>1.000000</td>\n",
       "      <td>17.965068</td>\n",
       "    </tr>\n",
       "  </tbody>\n",
       "</table>\n",
       "</div>"
      ],
      "text/plain": [
       "           feature_1      feature_2      feature_3         target\n",
       "count  201917.000000  201917.000000  201917.000000  201917.000000\n",
       "mean        3.105311       1.745410       0.565569      -0.393636\n",
       "std         1.186160       0.751362       0.495683       3.850500\n",
       "min         1.000000       1.000000       0.000000     -33.219281\n",
       "25%         2.000000       1.000000       0.000000      -0.883110\n",
       "50%         3.000000       2.000000       1.000000      -0.023437\n",
       "75%         4.000000       2.000000       1.000000       0.765453\n",
       "max         5.000000       3.000000       1.000000      17.965068"
      ]
     },
     "execution_count": 5,
     "metadata": {},
     "output_type": "execute_result"
    }
   ],
   "source": [
    "train.describe()"
   ]
  },
  {
   "cell_type": "code",
   "execution_count": 6,
   "metadata": {},
   "outputs": [
    {
     "data": {
      "text/html": [
       "<div>\n",
       "<style>\n",
       "    .dataframe thead tr:only-child th {\n",
       "        text-align: right;\n",
       "    }\n",
       "\n",
       "    .dataframe thead th {\n",
       "        text-align: left;\n",
       "    }\n",
       "\n",
       "    .dataframe tbody tr th {\n",
       "        vertical-align: top;\n",
       "    }\n",
       "</style>\n",
       "<table border=\"1\" class=\"dataframe\">\n",
       "  <thead>\n",
       "    <tr style=\"text-align: right;\">\n",
       "      <th></th>\n",
       "      <th>feature_1</th>\n",
       "      <th>feature_2</th>\n",
       "      <th>feature_3</th>\n",
       "    </tr>\n",
       "  </thead>\n",
       "  <tbody>\n",
       "    <tr>\n",
       "      <th>count</th>\n",
       "      <td>123623.00000</td>\n",
       "      <td>123623.000000</td>\n",
       "      <td>123623.000000</td>\n",
       "    </tr>\n",
       "    <tr>\n",
       "      <th>mean</th>\n",
       "      <td>3.10926</td>\n",
       "      <td>1.741796</td>\n",
       "      <td>0.564377</td>\n",
       "    </tr>\n",
       "    <tr>\n",
       "      <th>std</th>\n",
       "      <td>1.18911</td>\n",
       "      <td>0.749195</td>\n",
       "      <td>0.495840</td>\n",
       "    </tr>\n",
       "    <tr>\n",
       "      <th>min</th>\n",
       "      <td>1.00000</td>\n",
       "      <td>1.000000</td>\n",
       "      <td>0.000000</td>\n",
       "    </tr>\n",
       "    <tr>\n",
       "      <th>25%</th>\n",
       "      <td>2.00000</td>\n",
       "      <td>1.000000</td>\n",
       "      <td>0.000000</td>\n",
       "    </tr>\n",
       "    <tr>\n",
       "      <th>50%</th>\n",
       "      <td>3.00000</td>\n",
       "      <td>2.000000</td>\n",
       "      <td>1.000000</td>\n",
       "    </tr>\n",
       "    <tr>\n",
       "      <th>75%</th>\n",
       "      <td>4.00000</td>\n",
       "      <td>2.000000</td>\n",
       "      <td>1.000000</td>\n",
       "    </tr>\n",
       "    <tr>\n",
       "      <th>max</th>\n",
       "      <td>5.00000</td>\n",
       "      <td>3.000000</td>\n",
       "      <td>1.000000</td>\n",
       "    </tr>\n",
       "  </tbody>\n",
       "</table>\n",
       "</div>"
      ],
      "text/plain": [
       "          feature_1      feature_2      feature_3\n",
       "count  123623.00000  123623.000000  123623.000000\n",
       "mean        3.10926       1.741796       0.564377\n",
       "std         1.18911       0.749195       0.495840\n",
       "min         1.00000       1.000000       0.000000\n",
       "25%         2.00000       1.000000       0.000000\n",
       "50%         3.00000       2.000000       1.000000\n",
       "75%         4.00000       2.000000       1.000000\n",
       "max         5.00000       3.000000       1.000000"
      ]
     },
     "execution_count": 6,
     "metadata": {},
     "output_type": "execute_result"
    }
   ],
   "source": [
    "test.describe()"
   ]
  },
  {
   "cell_type": "code",
   "execution_count": 7,
   "metadata": {},
   "outputs": [
    {
     "data": {
      "text/html": [
       "<div>\n",
       "<style>\n",
       "    .dataframe thead tr:only-child th {\n",
       "        text-align: right;\n",
       "    }\n",
       "\n",
       "    .dataframe thead th {\n",
       "        text-align: left;\n",
       "    }\n",
       "\n",
       "    .dataframe tbody tr th {\n",
       "        vertical-align: top;\n",
       "    }\n",
       "</style>\n",
       "<table border=\"1\" class=\"dataframe\">\n",
       "  <thead>\n",
       "    <tr style=\"text-align: right;\">\n",
       "      <th></th>\n",
       "      <th>first_active_month</th>\n",
       "      <th>card_id</th>\n",
       "      <th>feature_1</th>\n",
       "      <th>feature_2</th>\n",
       "      <th>feature_3</th>\n",
       "      <th>target</th>\n",
       "    </tr>\n",
       "  </thead>\n",
       "  <tbody>\n",
       "  </tbody>\n",
       "</table>\n",
       "</div>"
      ],
      "text/plain": [
       "Empty DataFrame\n",
       "Columns: [first_active_month, card_id, feature_1, feature_2, feature_3, target]\n",
       "Index: []"
      ]
     },
     "metadata": {},
     "output_type": "display_data"
    },
    {
     "data": {
      "text/html": [
       "<div>\n",
       "<style>\n",
       "    .dataframe thead tr:only-child th {\n",
       "        text-align: right;\n",
       "    }\n",
       "\n",
       "    .dataframe thead th {\n",
       "        text-align: left;\n",
       "    }\n",
       "\n",
       "    .dataframe tbody tr th {\n",
       "        vertical-align: top;\n",
       "    }\n",
       "</style>\n",
       "<table border=\"1\" class=\"dataframe\">\n",
       "  <thead>\n",
       "    <tr style=\"text-align: right;\">\n",
       "      <th></th>\n",
       "      <th>first_active_month</th>\n",
       "      <th>card_id</th>\n",
       "      <th>feature_1</th>\n",
       "      <th>feature_2</th>\n",
       "      <th>feature_3</th>\n",
       "    </tr>\n",
       "  </thead>\n",
       "  <tbody>\n",
       "    <tr>\n",
       "      <th>11578</th>\n",
       "      <td>NaT</td>\n",
       "      <td>C_ID_c27b4f80f7</td>\n",
       "      <td>5</td>\n",
       "      <td>2</td>\n",
       "      <td>1</td>\n",
       "    </tr>\n",
       "  </tbody>\n",
       "</table>\n",
       "</div>"
      ],
      "text/plain": [
       "      first_active_month          card_id  feature_1  feature_2  feature_3\n",
       "11578                NaT  C_ID_c27b4f80f7          5          2          1"
      ]
     },
     "metadata": {},
     "output_type": "display_data"
    }
   ],
   "source": [
    "# NA確認\n",
    "display(train[train.isnull().any(1)], test[test.isnull().any(1)])"
   ]
  },
  {
   "cell_type": "code",
   "execution_count": 8,
   "metadata": {
    "collapsed": true
   },
   "outputs": [],
   "source": [
    "# NA 置換\n",
    "test.loc[test['first_active_month'].isnull(), 'first_active_month']  = test.loc[(test['feature_1'] == 5) & (test['feature_2'] == 2) & (test['feature_3'] == 1), 'first_active_month'].min()"
   ]
  },
  {
   "cell_type": "markdown",
   "metadata": {},
   "source": [
    "## データDiscription"
   ]
  },
  {
   "cell_type": "code",
   "execution_count": 9,
   "metadata": {},
   "outputs": [
    {
     "data": {
      "text/html": [
       "<div>\n",
       "<style>\n",
       "    .dataframe thead tr:only-child th {\n",
       "        text-align: right;\n",
       "    }\n",
       "\n",
       "    .dataframe thead th {\n",
       "        text-align: left;\n",
       "    }\n",
       "\n",
       "    .dataframe tbody tr th {\n",
       "        vertical-align: top;\n",
       "    }\n",
       "</style>\n",
       "<table border=\"1\" class=\"dataframe\">\n",
       "  <thead>\n",
       "    <tr style=\"text-align: right;\">\n",
       "      <th></th>\n",
       "      <th>train.csv</th>\n",
       "      <th>Unnamed: 1</th>\n",
       "    </tr>\n",
       "  </thead>\n",
       "  <tbody>\n",
       "    <tr>\n",
       "      <th>0</th>\n",
       "      <td>NaN</td>\n",
       "      <td>NaN</td>\n",
       "    </tr>\n",
       "    <tr>\n",
       "      <th>1</th>\n",
       "      <td>Columns</td>\n",
       "      <td>Description</td>\n",
       "    </tr>\n",
       "    <tr>\n",
       "      <th>2</th>\n",
       "      <td>card_id</td>\n",
       "      <td>Unique card identifier</td>\n",
       "    </tr>\n",
       "    <tr>\n",
       "      <th>3</th>\n",
       "      <td>first_active_month</td>\n",
       "      <td>'YYYY-MM', month of first purchase</td>\n",
       "    </tr>\n",
       "    <tr>\n",
       "      <th>4</th>\n",
       "      <td>feature_1</td>\n",
       "      <td>Anonymized card categorical feature</td>\n",
       "    </tr>\n",
       "    <tr>\n",
       "      <th>5</th>\n",
       "      <td>feature_2</td>\n",
       "      <td>Anonymized card categorical feature</td>\n",
       "    </tr>\n",
       "    <tr>\n",
       "      <th>6</th>\n",
       "      <td>feature_3</td>\n",
       "      <td>Anonymized card categorical feature</td>\n",
       "    </tr>\n",
       "    <tr>\n",
       "      <th>7</th>\n",
       "      <td>target</td>\n",
       "      <td>Loyalty numerical score calculated 2 months af...</td>\n",
       "    </tr>\n",
       "  </tbody>\n",
       "</table>\n",
       "</div>"
      ],
      "text/plain": [
       "            train.csv                                         Unnamed: 1\n",
       "0                 NaN                                                NaN\n",
       "1             Columns                                        Description\n",
       "2             card_id                             Unique card identifier\n",
       "3  first_active_month                 'YYYY-MM', month of first purchase\n",
       "4           feature_1                Anonymized card categorical feature\n",
       "5           feature_2                Anonymized card categorical feature\n",
       "6           feature_3                Anonymized card categorical feature\n",
       "7              target  Loyalty numerical score calculated 2 months af..."
      ]
     },
     "execution_count": 9,
     "metadata": {},
     "output_type": "execute_result"
    }
   ],
   "source": [
    "e = pd.read_excel('../data/Data_Dictionary.xlsx', sheet_name='train')\n",
    "e"
   ]
  },
  {
   "cell_type": "code",
   "execution_count": 10,
   "metadata": {},
   "outputs": [
    {
     "data": {
      "image/png": "[encoded data removed]",
      "text/plain": [
       "<matplotlib.figure.Figure at 0x1a0ab033c8>"
      ]
     },
     "metadata": {},
     "output_type": "display_data"
    }
   ],
   "source": [
    "fig, ax = plt.subplots(1, 3, figsize = (16, 6))\n",
    "plt.suptitle('Violineplots for features and target');\n",
    "sns.violinplot(x=\"feature_1\", y=\"target\", data=train, ax=ax[0], title='feature_1');\n",
    "sns.violinplot(x=\"feature_2\", y=\"target\", data=train, ax=ax[1], title='feature_2');\n",
    "sns.violinplot(x=\"feature_3\", y=\"target\", data=train, ax=ax[2], title='feature_3');"
   ]
  },
  {
   "cell_type": "markdown",
   "metadata": {},
   "source": [
    "現在の特徴量毎の差はなさそう。\n",
    "\n",
    "他の特徴量がないと予測が難しい"
   ]
  },
  {
   "cell_type": "code",
   "execution_count": 11,
   "metadata": {},
   "outputs": [
    {
     "data": {
      "image/png": "[encoded data removed]",
      "text/plain": [
       "<matplotlib.figure.Figure at 0x1a0aa5c7b8>"
      ]
     },
     "metadata": {},
     "output_type": "display_data"
    }
   ],
   "source": [
    "fig, ax = plt.subplots(1, 3, figsize = (16, 6));\n",
    "train['feature_1'].value_counts().sort_index().plot(kind='bar', ax=ax[0], color='teal', title='feature_1');\n",
    "train['feature_2'].value_counts().sort_index().plot(kind='bar', ax=ax[1], color='brown', title='feature_2');\n",
    "train['feature_3'].value_counts().sort_index().plot(kind='bar', ax=ax[2], color='gold', title='feature_3');\n",
    "plt.suptitle('Counts of categiories for features');"
   ]
  },
  {
   "cell_type": "markdown",
   "metadata": {},
   "source": [
    "それぞれの特徴量のデータの個数はある程度差がある"
   ]
  },
  {
   "cell_type": "code",
   "execution_count": 12,
   "metadata": {
    "collapsed": true
   },
   "outputs": [],
   "source": [
    "test['feature_1'] = test['feature_1'].astype('category')\n",
    "test['feature_2'] = test['feature_2'].astype('category')\n",
    "test['feature_3'] = test['feature_3'].astype('category')"
   ]
  },
  {
   "cell_type": "code",
   "execution_count": 13,
   "metadata": {
    "collapsed": true
   },
   "outputs": [],
   "source": [
    "d1 = train['first_active_month'].value_counts().sort_index()\n",
    "d2 = test['first_active_month'].value_counts().sort_index()\n",
    "data = [go.Scatter(x=d1.index, y=d1.values, name='train'), go.Scatter(x=d2.index, y=d2.values, name='test')]"
   ]
  },
  {
   "cell_type": "code",
   "execution_count": 14,
   "metadata": {},
   "outputs": [
    {
     "data": {
      "application/vnd.plotly.v1+json": {
       "config": {
        "linkText": "Export to plot.ly",
        "plotlyServerURL": "https://plot.ly",
        "showLink": true
       },
       "data": [
        {
         "name": "train",
         "type": "scatter",
         "uid": "57c5caa1-cb91-433b-8a8c-c4f5e2154c11",
         "x": [
          "2011-11-01",
          "2011-12-01",
          "2012-02-01",
          "2012-03-01",
          "2012-04-01",
          "2012-05-01",
          "2012-06-01",
          "2012-07-01",
          "2012-08-01",
          "2012-09-01",
          "2012-10-01",
          "2012-11-01",
          "2012-12-01",
          "2013-01-01",
          "2013-02-01",
          "2013-03-01",
          "2013-04-01",
          "2013-05-01",
          "2013-06-01",
          "2013-07-01",
          "2013-08-01",
          "2013-09-01",
          "2013-10-01",
          "2013-11-01",
          "2013-12-01",
          "2014-01-01",
          "2014-02-01",
          "2014-03-01",
          "2014-04-01",
          "2014-05-01",
          "2014-06-01",
          "2014-07-01",
          "2014-08-01",
          "2014-09-01",
          "2014-10-01",
          "2014-11-01",
          "2014-12-01",
          "2015-01-01",
          "2015-02-01",
          "2015-03-01",
          "2015-04-01",
          "2015-05-01",
          "2015-06-01",
          "2015-07-01",
          "2015-08-01",
          "2015-09-01",
          "2015-10-01",
          "2015-11-01",
          "2015-12-01",
          "2016-01-01",
          "2016-02-01",
          "2016-03-01",
          "2016-04-01",
          "2016-05-01",
          "2016-06-01",
          "2016-07-01",
          "2016-08-01",
          "2016-09-01",
          "2016-10-01",
          "2016-11-01",
          "2016-12-01",
          "2017-01-01",
          "2017-02-01",
          "2017-03-01",
          "2017-04-01",
          "2017-05-01",
          "2017-06-01",
          "2017-07-01",
          "2017-08-01",
          "2017-09-01",
          "2017-10-01",
          "2017-11-01",
          "2017-12-01",
          "2018-01-01",
          "2018-02-01"
         ],
         "y": [
          8,
          2,
          7,
          10,
          18,
          28,
          19,
          29,
          36,
          38,
          31,
          48,
          18,
          23,
          37,
          58,
          58,
          94,
          79,
          110,
          126,
          121,
          126,
          132,
          165,
          144,
          198,
          242,
          352,
          431,
          345,
          407,
          399,
          431,
          476,
          481,
          617,
          533,
          526,
          608,
          733,
          918,
          1104,
          1393,
          1376,
          1494,
          1532,
          1582,
          2343,
          1711,
          1636,
          2005,
          2938,
          3314,
          4102,
          4188,
          4977,
          4410,
          5371,
          7222,
          9403,
          9605,
          8110,
          8271,
          8761,
          9168,
          9930,
          12363,
          13638,
          13878,
          13695,
          12930,
          10170,
          34,
          1
         ]
        },
        {
         "name": "test",
         "type": "scatter",
         "uid": "c3a69d96-917c-47d6-818e-aa97742d7720",
         "x": [
          "2011-11-01",
          "2011-12-01",
          "2012-01-01",
          "2012-02-01",
          "2012-03-01",
          "2012-04-01",
          "2012-05-01",
          "2012-06-01",
          "2012-07-01",
          "2012-08-01",
          "2012-09-01",
          "2012-10-01",
          "2012-11-01",
          "2012-12-01",
          "2013-01-01",
          "2013-02-01",
          "2013-03-01",
          "2013-04-01",
          "2013-05-01",
          "2013-06-01",
          "2013-07-01",
          "2013-08-01",
          "2013-09-01",
          "2013-10-01",
          "2013-11-01",
          "2013-12-01",
          "2014-01-01",
          "2014-02-01",
          "2014-03-01",
          "2014-04-01",
          "2014-05-01",
          "2014-06-01",
          "2014-07-01",
          "2014-08-01",
          "2014-09-01",
          "2014-10-01",
          "2014-11-01",
          "2014-12-01",
          "2015-01-01",
          "2015-02-01",
          "2015-03-01",
          "2015-04-01",
          "2015-05-01",
          "2015-06-01",
          "2015-07-01",
          "2015-08-01",
          "2015-09-01",
          "2015-10-01",
          "2015-11-01",
          "2015-12-01",
          "2016-01-01",
          "2016-02-01",
          "2016-03-01",
          "2016-04-01",
          "2016-05-01",
          "2016-06-01",
          "2016-07-01",
          "2016-08-01",
          "2016-09-01",
          "2016-10-01",
          "2016-11-01",
          "2016-12-01",
          "2017-01-01",
          "2017-02-01",
          "2017-03-01",
          "2017-04-01",
          "2017-05-01",
          "2017-06-01",
          "2017-07-01",
          "2017-08-01",
          "2017-09-01",
          "2017-10-01",
          "2017-11-01",
          "2017-12-01",
          "2018-01-01"
         ],
         "y": [
          3,
          2,
          1,
          4,
          10,
          11,
          12,
          14,
          15,
          21,
          18,
          13,
          18,
          16,
          14,
          28,
          34,
          40,
          44,
          56,
          72,
          73,
          75,
          80,
          80,
          95,
          90,
          97,
          141,
          209,
          263,
          220,
          236,
          265,
          257,
          291,
          296,
          390,
          279,
          335,
          397,
          433,
          604,
          711,
          862,
          882,
          818,
          936,
          955,
          1393,
          996,
          987,
          1258,
          1740,
          2097,
          2407,
          2610,
          3108,
          2663,
          3335,
          4444,
          5751,
          5974,
          4903,
          5058,
          5371,
          5598,
          6147,
          7344,
          8299,
          8805,
          8451,
          7807,
          6233,
          28
         ]
        }
       ],
       "layout": {
        "legend": {
         "orientation": "v"
        },
        "title": "Counts of first active",
        "xaxis": {
         "title": "Month"
        },
        "yaxis": {
         "title": "Count"
        }
       }
      },
      "text/html": [
       "<div id=\"155d03df-cb20-4b32-92fc-49ae32a990ed\" style=\"height: 525px; width: 100%;\" class=\"plotly-graph-div\"></div><script type=\"text/javascript\">require([\"plotly\"], function(Plotly) { window.PLOTLYENV=window.PLOTLYENV || {};window.PLOTLYENV.BASE_URL=\"https://plot.ly\";Plotly.newPlot(\"155d03df-cb20-4b32-92fc-49ae32a990ed\", [{\"name\": \"train\", \"x\": [\"2011-11-01\", \"2011-12-01\", \"2012-02-01\", \"2012-03-01\", \"2012-04-01\", \"2012-05-01\", \"2012-06-01\", \"2012-07-01\", \"2012-08-01\", \"2012-09-01\", \"2012-10-01\", \"2012-11-01\", \"2012-12-01\", \"2013-01-01\", \"2013-02-01\", \"2013-03-01\", \"2013-04-01\", \"2013-05-01\", \"2013-06-01\", \"2013-07-01\", \"2013-08-01\", \"2013-09-01\", \"2013-10-01\", \"2013-11-01\", \"2013-12-01\", \"2014-01-01\", \"2014-02-01\", \"2014-03-01\", \"2014-04-01\", \"2014-05-01\", \"2014-06-01\", \"2014-07-01\", \"2014-08-01\", \"2014-09-01\", \"2014-10-01\", \"2014-11-01\", \"2014-12-01\", \"2015-01-01\", \"2015-02-01\", \"2015-03-01\", \"2015-04-01\", \"2015-05-01\", \"2015-06-01\", \"2015-07-01\", \"2015-08-01\", \"2015-09-01\", \"2015-10-01\", \"2015-11-01\", \"2015-12-01\", \"2016-01-01\", \"2016-02-01\", \"2016-03-01\", \"2016-04-01\", \"2016-05-01\", \"2016-06-01\", \"2016-07-01\", \"2016-08-01\", \"2016-09-01\", \"2016-10-01\", \"2016-11-01\", \"2016-12-01\", \"2017-01-01\", \"2017-02-01\", \"2017-03-01\", \"2017-04-01\", \"2017-05-01\", \"2017-06-01\", \"2017-07-01\", \"2017-08-01\", \"2017-09-01\", \"2017-10-01\", \"2017-11-01\", \"2017-12-01\", \"2018-01-01\", \"2018-02-01\"], \"y\": [8, 2, 7, 10, 18, 28, 19, 29, 36, 38, 31, 48, 18, 23, 37, 58, 58, 94, 79, 110, 126, 121, 126, 132, 165, 144, 198, 242, 352, 431, 345, 407, 399, 431, 476, 481, 617, 533, 526, 608, 733, 918, 1104, 1393, 1376, 1494, 1532, 1582, 2343, 1711, 1636, 2005, 2938, 3314, 4102, 4188, 4977, 4410, 5371, 7222, 9403, 9605, 8110, 8271, 8761, 9168, 9930, 12363, 13638, 13878, 13695, 12930, 10170, 34, 1], \"type\": \"scatter\", \"uid\": \"5f2e3cda-87e0-45a9-8098-2e4ffe7b46d9\"}, {\"name\": \"test\", \"x\": [\"2011-11-01\", \"2011-12-01\", \"2012-01-01\", \"2012-02-01\", \"2012-03-01\", \"2012-04-01\", \"2012-05-01\", \"2012-06-01\", \"2012-07-01\", \"2012-08-01\", \"2012-09-01\", \"2012-10-01\", \"2012-11-01\", \"2012-12-01\", \"2013-01-01\", \"2013-02-01\", \"2013-03-01\", \"2013-04-01\", \"2013-05-01\", \"2013-06-01\", \"2013-07-01\", \"2013-08-01\", \"2013-09-01\", \"2013-10-01\", \"2013-11-01\", \"2013-12-01\", \"2014-01-01\", \"2014-02-01\", \"2014-03-01\", \"2014-04-01\", \"2014-05-01\", \"2014-06-01\", \"2014-07-01\", \"2014-08-01\", \"2014-09-01\", \"2014-10-01\", \"2014-11-01\", \"2014-12-01\", \"2015-01-01\", \"2015-02-01\", \"2015-03-01\", \"2015-04-01\", \"2015-05-01\", \"2015-06-01\", \"2015-07-01\", \"2015-08-01\", \"2015-09-01\", \"2015-10-01\", \"2015-11-01\", \"2015-12-01\", \"2016-01-01\", \"2016-02-01\", \"2016-03-01\", \"2016-04-01\", \"2016-05-01\", \"2016-06-01\", \"2016-07-01\", \"2016-08-01\", \"2016-09-01\", \"2016-10-01\", \"2016-11-01\", \"2016-12-01\", \"2017-01-01\", \"2017-02-01\", \"2017-03-01\", \"2017-04-01\", \"2017-05-01\", \"2017-06-01\", \"2017-07-01\", \"2017-08-01\", \"2017-09-01\", \"2017-10-01\", \"2017-11-01\", \"2017-12-01\", \"2018-01-01\"], \"y\": [3, 2, 1, 4, 10, 11, 12, 14, 15, 21, 18, 13, 18, 16, 14, 28, 34, 40, 44, 56, 72, 73, 75, 80, 80, 95, 90, 97, 141, 209, 263, 220, 236, 265, 257, 291, 296, 390, 279, 335, 397, 433, 604, 711, 862, 882, 818, 936, 955, 1393, 996, 987, 1258, 1740, 2097, 2407, 2610, 3108, 2663, 3335, 4444, 5751, 5974, 4903, 5058, 5371, 5598, 6147, 7344, 8299, 8805, 8451, 7807, 6233, 28], \"type\": \"scatter\", \"uid\": \"eaa6628f-c27b-4b65-baf0-f2788b0bf6f6\"}], {\"legend\": {\"orientation\": \"v\"}, \"title\": \"Counts of first active\", \"xaxis\": {\"title\": \"Month\"}, \"yaxis\": {\"title\": \"Count\"}}, {\"showLink\": true, \"linkText\": \"Export to plot.ly\", \"plotlyServerURL\": \"https://plot.ly\"})});</script><script type=\"text/javascript\">window.addEventListener(\"resize\", function(){window._Plotly.Plots.resize(document.getElementById(\"155d03df-cb20-4b32-92fc-49ae32a990ed\"));});</script>"
      ],
      "text/vnd.plotly.v1+html": [
       "<div id=\"155d03df-cb20-4b32-92fc-49ae32a990ed\" style=\"height: 525px; width: 100%;\" class=\"plotly-graph-div\"></div><script type=\"text/javascript\">require([\"plotly\"], function(Plotly) { window.PLOTLYENV=window.PLOTLYENV || {};window.PLOTLYENV.BASE_URL=\"https://plot.ly\";Plotly.newPlot(\"155d03df-cb20-4b32-92fc-49ae32a990ed\", [{\"name\": \"train\", \"x\": [\"2011-11-01\", \"2011-12-01\", \"2012-02-01\", \"2012-03-01\", \"2012-04-01\", \"2012-05-01\", \"2012-06-01\", \"2012-07-01\", \"2012-08-01\", \"2012-09-01\", \"2012-10-01\", \"2012-11-01\", \"2012-12-01\", \"2013-01-01\", \"2013-02-01\", \"2013-03-01\", \"2013-04-01\", \"2013-05-01\", \"2013-06-01\", \"2013-07-01\", \"2013-08-01\", \"2013-09-01\", \"2013-10-01\", \"2013-11-01\", \"2013-12-01\", \"2014-01-01\", \"2014-02-01\", \"2014-03-01\", \"2014-04-01\", \"2014-05-01\", \"2014-06-01\", \"2014-07-01\", \"2014-08-01\", \"2014-09-01\", \"2014-10-01\", \"2014-11-01\", \"2014-12-01\", \"2015-01-01\", \"2015-02-01\", \"2015-03-01\", \"2015-04-01\", \"2015-05-01\", \"2015-06-01\", \"2015-07-01\", \"2015-08-01\", \"2015-09-01\", \"2015-10-01\", \"2015-11-01\", \"2015-12-01\", \"2016-01-01\", \"2016-02-01\", \"2016-03-01\", \"2016-04-01\", \"2016-05-01\", \"2016-06-01\", \"2016-07-01\", \"2016-08-01\", \"2016-09-01\", \"2016-10-01\", \"2016-11-01\", \"2016-12-01\", \"2017-01-01\", \"2017-02-01\", \"2017-03-01\", \"2017-04-01\", \"2017-05-01\", \"2017-06-01\", \"2017-07-01\", \"2017-08-01\", \"2017-09-01\", \"2017-10-01\", \"2017-11-01\", \"2017-12-01\", \"2018-01-01\", \"2018-02-01\"], \"y\": [8, 2, 7, 10, 18, 28, 19, 29, 36, 38, 31, 48, 18, 23, 37, 58, 58, 94, 79, 110, 126, 121, 126, 132, 165, 144, 198, 242, 352, 431, 345, 407, 399, 431, 476, 481, 617, 533, 526, 608, 733, 918, 1104, 1393, 1376, 1494, 1532, 1582, 2343, 1711, 1636, 2005, 2938, 3314, 4102, 4188, 4977, 4410, 5371, 7222, 9403, 9605, 8110, 8271, 8761, 9168, 9930, 12363, 13638, 13878, 13695, 12930, 10170, 34, 1], \"type\": \"scatter\", \"uid\": \"5f2e3cda-87e0-45a9-8098-2e4ffe7b46d9\"}, {\"name\": \"test\", \"x\": [\"2011-11-01\", \"2011-12-01\", \"2012-01-01\", \"2012-02-01\", \"2012-03-01\", \"2012-04-01\", \"2012-05-01\", \"2012-06-01\", \"2012-07-01\", \"2012-08-01\", \"2012-09-01\", \"2012-10-01\", \"2012-11-01\", \"2012-12-01\", \"2013-01-01\", \"2013-02-01\", \"2013-03-01\", \"2013-04-01\", \"2013-05-01\", \"2013-06-01\", \"2013-07-01\", \"2013-08-01\", \"2013-09-01\", \"2013-10-01\", \"2013-11-01\", \"2013-12-01\", \"2014-01-01\", \"2014-02-01\", \"2014-03-01\", \"2014-04-01\", \"2014-05-01\", \"2014-06-01\", \"2014-07-01\", \"2014-08-01\", \"2014-09-01\", \"2014-10-01\", \"2014-11-01\", \"2014-12-01\", \"2015-01-01\", \"2015-02-01\", \"2015-03-01\", \"2015-04-01\", \"2015-05-01\", \"2015-06-01\", \"2015-07-01\", \"2015-08-01\", \"2015-09-01\", \"2015-10-01\", \"2015-11-01\", \"2015-12-01\", \"2016-01-01\", \"2016-02-01\", \"2016-03-01\", \"2016-04-01\", \"2016-05-01\", \"2016-06-01\", \"2016-07-01\", \"2016-08-01\", \"2016-09-01\", \"2016-10-01\", \"2016-11-01\", \"2016-12-01\", \"2017-01-01\", \"2017-02-01\", \"2017-03-01\", \"2017-04-01\", \"2017-05-01\", \"2017-06-01\", \"2017-07-01\", \"2017-08-01\", \"2017-09-01\", \"2017-10-01\", \"2017-11-01\", \"2017-12-01\", \"2018-01-01\"], \"y\": [3, 2, 1, 4, 10, 11, 12, 14, 15, 21, 18, 13, 18, 16, 14, 28, 34, 40, 44, 56, 72, 73, 75, 80, 80, 95, 90, 97, 141, 209, 263, 220, 236, 265, 257, 291, 296, 390, 279, 335, 397, 433, 604, 711, 862, 882, 818, 936, 955, 1393, 996, 987, 1258, 1740, 2097, 2407, 2610, 3108, 2663, 3335, 4444, 5751, 5974, 4903, 5058, 5371, 5598, 6147, 7344, 8299, 8805, 8451, 7807, 6233, 28], \"type\": \"scatter\", \"uid\": \"eaa6628f-c27b-4b65-baf0-f2788b0bf6f6\"}], {\"legend\": {\"orientation\": \"v\"}, \"title\": \"Counts of first active\", \"xaxis\": {\"title\": \"Month\"}, \"yaxis\": {\"title\": \"Count\"}}, {\"showLink\": true, \"linkText\": \"Export to plot.ly\", \"plotlyServerURL\": \"https://plot.ly\"})});</script><script type=\"text/javascript\">window.addEventListener(\"resize\", function(){window._Plotly.Plots.resize(document.getElementById(\"155d03df-cb20-4b32-92fc-49ae32a990ed\"));});</script>"
      ]
     },
     "metadata": {},
     "output_type": "display_data"
    }
   ],
   "source": [
    "layout = go.Layout(dict(title = \"Counts of first active\",\n",
    "                  xaxis = dict(title = 'Month'),\n",
    "                  yaxis = dict(title = 'Count'),\n",
    "                  ),legend=dict(\n",
    "                orientation=\"v\"))\n",
    "py.iplot(dict(data=data, layout=layout))"
   ]
  },
  {
   "cell_type": "code",
   "execution_count": 15,
   "metadata": {
    "collapsed": true
   },
   "outputs": [],
   "source": [
    "dx = pd.concat([d1,d2],axis=1).fillna(0)"
   ]
  },
  {
   "cell_type": "code",
   "execution_count": 16,
   "metadata": {
    "collapsed": true
   },
   "outputs": [],
   "source": [
    "dx.loc[:,'All'] = (dx.iloc[:,0] + dx.iloc[:,1])"
   ]
  },
  {
   "cell_type": "code",
   "execution_count": 17,
   "metadata": {
    "collapsed": true
   },
   "outputs": [],
   "source": [
    "data = [go.Scatter(x=dx.index, y=dx.iloc[:,0]/dx.All, name='train')]"
   ]
  },
  {
   "cell_type": "code",
   "execution_count": 18,
   "metadata": {},
   "outputs": [
    {
     "data": {
      "application/vnd.plotly.v1+json": {
       "config": {
        "linkText": "Export to plot.ly",
        "plotlyServerURL": "https://plot.ly",
        "showLink": true
       },
       "data": [
        {
         "name": "train",
         "type": "scatter",
         "uid": "0efcb742-bc31-420a-a474-d87498853fe1",
         "x": [
          "2011-11-01",
          "2011-12-01",
          "2012-01-01",
          "2012-02-01",
          "2012-03-01",
          "2012-04-01",
          "2012-05-01",
          "2012-06-01",
          "2012-07-01",
          "2012-08-01",
          "2012-09-01",
          "2012-10-01",
          "2012-11-01",
          "2012-12-01",
          "2013-01-01",
          "2013-02-01",
          "2013-03-01",
          "2013-04-01",
          "2013-05-01",
          "2013-06-01",
          "2013-07-01",
          "2013-08-01",
          "2013-09-01",
          "2013-10-01",
          "2013-11-01",
          "2013-12-01",
          "2014-01-01",
          "2014-02-01",
          "2014-03-01",
          "2014-04-01",
          "2014-05-01",
          "2014-06-01",
          "2014-07-01",
          "2014-08-01",
          "2014-09-01",
          "2014-10-01",
          "2014-11-01",
          "2014-12-01",
          "2015-01-01",
          "2015-02-01",
          "2015-03-01",
          "2015-04-01",
          "2015-05-01",
          "2015-06-01",
          "2015-07-01",
          "2015-08-01",
          "2015-09-01",
          "2015-10-01",
          "2015-11-01",
          "2015-12-01",
          "2016-01-01",
          "2016-02-01",
          "2016-03-01",
          "2016-04-01",
          "2016-05-01",
          "2016-06-01",
          "2016-07-01",
          "2016-08-01",
          "2016-09-01",
          "2016-10-01",
          "2016-11-01",
          "2016-12-01",
          "2017-01-01",
          "2017-02-01",
          "2017-03-01",
          "2017-04-01",
          "2017-05-01",
          "2017-06-01",
          "2017-07-01",
          "2017-08-01",
          "2017-09-01",
          "2017-10-01",
          "2017-11-01",
          "2017-12-01",
          "2018-01-01",
          "2018-02-01"
         ],
         "y": [
          0.7272727272727273,
          0.5,
          0,
          0.6363636363636364,
          0.5,
          0.6206896551724138,
          0.7,
          0.5757575757575758,
          0.6590909090909091,
          0.631578947368421,
          0.6785714285714286,
          0.7045454545454546,
          0.7272727272727273,
          0.5294117647058824,
          0.6216216216216216,
          0.5692307692307692,
          0.6304347826086957,
          0.5918367346938775,
          0.6811594202898551,
          0.5851851851851851,
          0.6043956043956044,
          0.6331658291457286,
          0.6173469387755102,
          0.6116504854368932,
          0.6226415094339622,
          0.6346153846153846,
          0.6153846153846154,
          0.6711864406779661,
          0.6318537859007833,
          0.6274509803921569,
          0.6210374639769453,
          0.6106194690265486,
          0.6329704510108864,
          0.6009036144578314,
          0.626453488372093,
          0.6205997392438071,
          0.6190476190476191,
          0.6127110228401191,
          0.6564039408866995,
          0.610917537746806,
          0.6049751243781094,
          0.6286449399656947,
          0.6031537450722734,
          0.6082644628099173,
          0.6177383592017739,
          0.6093888396811338,
          0.6461937716262975,
          0.6207455429497569,
          0.6235711470240441,
          0.6271413276231264,
          0.6320650166235685,
          0.6237133053755242,
          0.6144652160588415,
          0.6280461735784524,
          0.6124561079282942,
          0.6302043324627439,
          0.6160635481023831,
          0.6155844155844156,
          0.623497808567793,
          0.6169308522857799,
          0.6190639465112292,
          0.6204962386168669,
          0.6165350792733808,
          0.6232229309152386,
          0.6205266711681297,
          0.6199405604302293,
          0.6208858187728565,
          0.6176525471169995,
          0.6273405388948089,
          0.6216893832338058,
          0.6118238328263457,
          0.6183960986182606,
          0.623523171143367,
          0.6200085350240809,
          0.5483870967741935,
          1
         ]
        }
       ],
       "layout": {
        "legend": {
         "orientation": "v"
        },
        "title": "Counts of first active",
        "xaxis": {
         "title": "Month"
        },
        "yaxis": {
         "title": "%"
        }
       }
      },
      "text/html": [
       "<div id=\"b01d3cf3-f713-4b14-8e03-3c334e58fef6\" style=\"height: 525px; width: 100%;\" class=\"plotly-graph-div\"></div><script type=\"text/javascript\">require([\"plotly\"], function(Plotly) { window.PLOTLYENV=window.PLOTLYENV || {};window.PLOTLYENV.BASE_URL=\"https://plot.ly\";Plotly.newPlot(\"b01d3cf3-f713-4b14-8e03-3c334e58fef6\", [{\"name\": \"train\", \"x\": [\"2011-11-01\", \"2011-12-01\", \"2012-01-01\", \"2012-02-01\", \"2012-03-01\", \"2012-04-01\", \"2012-05-01\", \"2012-06-01\", \"2012-07-01\", \"2012-08-01\", \"2012-09-01\", \"2012-10-01\", \"2012-11-01\", \"2012-12-01\", \"2013-01-01\", \"2013-02-01\", \"2013-03-01\", \"2013-04-01\", \"2013-05-01\", \"2013-06-01\", \"2013-07-01\", \"2013-08-01\", \"2013-09-01\", \"2013-10-01\", \"2013-11-01\", \"2013-12-01\", \"2014-01-01\", \"2014-02-01\", \"2014-03-01\", \"2014-04-01\", \"2014-05-01\", \"2014-06-01\", \"2014-07-01\", \"2014-08-01\", \"2014-09-01\", \"2014-10-01\", \"2014-11-01\", \"2014-12-01\", \"2015-01-01\", \"2015-02-01\", \"2015-03-01\", \"2015-04-01\", \"2015-05-01\", \"2015-06-01\", \"2015-07-01\", \"2015-08-01\", \"2015-09-01\", \"2015-10-01\", \"2015-11-01\", \"2015-12-01\", \"2016-01-01\", \"2016-02-01\", \"2016-03-01\", \"2016-04-01\", \"2016-05-01\", \"2016-06-01\", \"2016-07-01\", \"2016-08-01\", \"2016-09-01\", \"2016-10-01\", \"2016-11-01\", \"2016-12-01\", \"2017-01-01\", \"2017-02-01\", \"2017-03-01\", \"2017-04-01\", \"2017-05-01\", \"2017-06-01\", \"2017-07-01\", \"2017-08-01\", \"2017-09-01\", \"2017-10-01\", \"2017-11-01\", \"2017-12-01\", \"2018-01-01\", \"2018-02-01\"], \"y\": [0.7272727272727273, 0.5, 0.0, 0.6363636363636364, 0.5, 0.6206896551724138, 0.7, 0.5757575757575758, 0.6590909090909091, 0.631578947368421, 0.6785714285714286, 0.7045454545454546, 0.7272727272727273, 0.5294117647058824, 0.6216216216216216, 0.5692307692307692, 0.6304347826086957, 0.5918367346938775, 0.6811594202898551, 0.5851851851851851, 0.6043956043956044, 0.6331658291457286, 0.6173469387755102, 0.6116504854368932, 0.6226415094339622, 0.6346153846153846, 0.6153846153846154, 0.6711864406779661, 0.6318537859007833, 0.6274509803921569, 0.6210374639769453, 0.6106194690265486, 0.6329704510108864, 0.6009036144578314, 0.626453488372093, 0.6205997392438071, 0.6190476190476191, 0.6127110228401191, 0.6564039408866995, 0.610917537746806, 0.6049751243781094, 0.6286449399656947, 0.6031537450722734, 0.6082644628099173, 0.6177383592017739, 0.6093888396811338, 0.6461937716262975, 0.6207455429497569, 0.6235711470240441, 0.6271413276231264, 0.6320650166235685, 0.6237133053755242, 0.6144652160588415, 0.6280461735784524, 0.6124561079282942, 0.6302043324627439, 0.6160635481023831, 0.6155844155844156, 0.623497808567793, 0.6169308522857799, 0.6190639465112292, 0.6204962386168669, 0.6165350792733808, 0.6232229309152386, 0.6205266711681297, 0.6199405604302293, 0.6208858187728565, 0.6176525471169995, 0.6273405388948089, 0.6216893832338058, 0.6118238328263457, 0.6183960986182606, 0.623523171143367, 0.6200085350240809, 0.5483870967741935, 1.0], \"type\": \"scatter\", \"uid\": \"f086d4a6-1474-4367-85ab-acdd34f16006\"}], {\"legend\": {\"orientation\": \"v\"}, \"title\": \"Counts of first active\", \"xaxis\": {\"title\": \"Month\"}, \"yaxis\": {\"title\": \"%\"}}, {\"showLink\": true, \"linkText\": \"Export to plot.ly\", \"plotlyServerURL\": \"https://plot.ly\"})});</script><script type=\"text/javascript\">window.addEventListener(\"resize\", function(){window._Plotly.Plots.resize(document.getElementById(\"b01d3cf3-f713-4b14-8e03-3c334e58fef6\"));});</script>"
      ],
      "text/vnd.plotly.v1+html": [
       "<div id=\"b01d3cf3-f713-4b14-8e03-3c334e58fef6\" style=\"height: 525px; width: 100%;\" class=\"plotly-graph-div\"></div><script type=\"text/javascript\">require([\"plotly\"], function(Plotly) { window.PLOTLYENV=window.PLOTLYENV || {};window.PLOTLYENV.BASE_URL=\"https://plot.ly\";Plotly.newPlot(\"b01d3cf3-f713-4b14-8e03-3c334e58fef6\", [{\"name\": \"train\", \"x\": [\"2011-11-01\", \"2011-12-01\", \"2012-01-01\", \"2012-02-01\", \"2012-03-01\", \"2012-04-01\", \"2012-05-01\", \"2012-06-01\", \"2012-07-01\", \"2012-08-01\", \"2012-09-01\", \"2012-10-01\", \"2012-11-01\", \"2012-12-01\", \"2013-01-01\", \"2013-02-01\", \"2013-03-01\", \"2013-04-01\", \"2013-05-01\", \"2013-06-01\", \"2013-07-01\", \"2013-08-01\", \"2013-09-01\", \"2013-10-01\", \"2013-11-01\", \"2013-12-01\", \"2014-01-01\", \"2014-02-01\", \"2014-03-01\", \"2014-04-01\", \"2014-05-01\", \"2014-06-01\", \"2014-07-01\", \"2014-08-01\", \"2014-09-01\", \"2014-10-01\", \"2014-11-01\", \"2014-12-01\", \"2015-01-01\", \"2015-02-01\", \"2015-03-01\", \"2015-04-01\", \"2015-05-01\", \"2015-06-01\", \"2015-07-01\", \"2015-08-01\", \"2015-09-01\", \"2015-10-01\", \"2015-11-01\", \"2015-12-01\", \"2016-01-01\", \"2016-02-01\", \"2016-03-01\", \"2016-04-01\", \"2016-05-01\", \"2016-06-01\", \"2016-07-01\", \"2016-08-01\", \"2016-09-01\", \"2016-10-01\", \"2016-11-01\", \"2016-12-01\", \"2017-01-01\", \"2017-02-01\", \"2017-03-01\", \"2017-04-01\", \"2017-05-01\", \"2017-06-01\", \"2017-07-01\", \"2017-08-01\", \"2017-09-01\", \"2017-10-01\", \"2017-11-01\", \"2017-12-01\", \"2018-01-01\", \"2018-02-01\"], \"y\": [0.7272727272727273, 0.5, 0.0, 0.6363636363636364, 0.5, 0.6206896551724138, 0.7, 0.5757575757575758, 0.6590909090909091, 0.631578947368421, 0.6785714285714286, 0.7045454545454546, 0.7272727272727273, 0.5294117647058824, 0.6216216216216216, 0.5692307692307692, 0.6304347826086957, 0.5918367346938775, 0.6811594202898551, 0.5851851851851851, 0.6043956043956044, 0.6331658291457286, 0.6173469387755102, 0.6116504854368932, 0.6226415094339622, 0.6346153846153846, 0.6153846153846154, 0.6711864406779661, 0.6318537859007833, 0.6274509803921569, 0.6210374639769453, 0.6106194690265486, 0.6329704510108864, 0.6009036144578314, 0.626453488372093, 0.6205997392438071, 0.6190476190476191, 0.6127110228401191, 0.6564039408866995, 0.610917537746806, 0.6049751243781094, 0.6286449399656947, 0.6031537450722734, 0.6082644628099173, 0.6177383592017739, 0.6093888396811338, 0.6461937716262975, 0.6207455429497569, 0.6235711470240441, 0.6271413276231264, 0.6320650166235685, 0.6237133053755242, 0.6144652160588415, 0.6280461735784524, 0.6124561079282942, 0.6302043324627439, 0.6160635481023831, 0.6155844155844156, 0.623497808567793, 0.6169308522857799, 0.6190639465112292, 0.6204962386168669, 0.6165350792733808, 0.6232229309152386, 0.6205266711681297, 0.6199405604302293, 0.6208858187728565, 0.6176525471169995, 0.6273405388948089, 0.6216893832338058, 0.6118238328263457, 0.6183960986182606, 0.623523171143367, 0.6200085350240809, 0.5483870967741935, 1.0], \"type\": \"scatter\", \"uid\": \"f086d4a6-1474-4367-85ab-acdd34f16006\"}], {\"legend\": {\"orientation\": \"v\"}, \"title\": \"Counts of first active\", \"xaxis\": {\"title\": \"Month\"}, \"yaxis\": {\"title\": \"%\"}}, {\"showLink\": true, \"linkText\": \"Export to plot.ly\", \"plotlyServerURL\": \"https://plot.ly\"})});</script><script type=\"text/javascript\">window.addEventListener(\"resize\", function(){window._Plotly.Plots.resize(document.getElementById(\"b01d3cf3-f713-4b14-8e03-3c334e58fef6\"));});</script>"
      ]
     },
     "metadata": {},
     "output_type": "display_data"
    }
   ],
   "source": [
    "layout = go.Layout(dict(title = \"Counts of first active\",\n",
    "                  xaxis = dict(title = 'Month'),\n",
    "                  yaxis = dict(title = '%'),\n",
    "                  ),legend=dict(\n",
    "                orientation=\"v\"))\n",
    "py.iplot(dict(data=data, layout=layout))"
   ]
  },
  {
   "cell_type": "markdown",
   "metadata": {},
   "source": [
    "データはだいたい全体の60％がTrain　40％がTestになるように生成されている。月毎もそんなに変わらない\n",
    "\n",
    "気になるのは２０１７/9月以降減っている点のみ"
   ]
  },
  {
   "cell_type": "markdown",
   "metadata": {},
   "source": [
    "## Target に付いて確認"
   ]
  },
  {
   "cell_type": "code",
   "execution_count": 19,
   "metadata": {},
   "outputs": [
    {
     "data": {
      "image/png": "[encoded data removed]",
      "text/plain": [
       "<matplotlib.figure.Figure at 0x1a0d2fd358>"
      ]
     },
     "metadata": {},
     "output_type": "display_data"
    }
   ],
   "source": [
    "plt.hist(train['target']);\n",
    "plt.title('Target distribution');"
   ]
  },
  {
   "cell_type": "markdown",
   "metadata": {},
   "source": [
    "外れ値っぽいデータがあるのでそれの取り扱いについて確認する必要あり"
   ]
  },
  {
   "cell_type": "code",
   "execution_count": 20,
   "metadata": {},
   "outputs": [
    {
     "data": {
      "text/plain": [
       "2207"
      ]
     },
     "metadata": {},
     "output_type": "display_data"
    },
    {
     "data": {
      "text/plain": [
       "201917"
      ]
     },
     "metadata": {},
     "output_type": "display_data"
    },
    {
     "data": {
      "text/plain": [
       "0.010930233709890698"
      ]
     },
     "metadata": {},
     "output_type": "display_data"
    }
   ],
   "source": [
    "# -20 以下の値を取っているものの数を確認\n",
    "display(train.loc[train.target < -20].shape[0], len(train), train.loc[train.target < -20].shape[0]/len(train))"
   ]
  },
  {
   "cell_type": "markdown",
   "metadata": {},
   "source": [
    "全体の１% のデータがおかしい"
   ]
  },
  {
   "cell_type": "code",
   "execution_count": 21,
   "metadata": {
    "collapsed": true
   },
   "outputs": [],
   "source": [
    "max_date = train['first_active_month'].dt.date.max()\n",
    "def process_main(df):\n",
    "    date_parts = [\"year\", \"weekday\", \"month\"]\n",
    "    for part in date_parts:\n",
    "        part_col = 'first_active_month' + \"_\" + part\n",
    "        df[part_col] = getattr(df['first_active_month'].dt, part).astype(int)\n",
    "            \n",
    "    df['elapsed_time'] = (max_date - df['first_active_month'].dt.date).dt.days\n",
    "    \n",
    "    return df"
   ]
  },
  {
   "cell_type": "code",
   "execution_count": 22,
   "metadata": {
    "collapsed": true
   },
   "outputs": [],
   "source": [
    "train = process_main(train)\n",
    "test = process_main(test)"
   ]
  },
  {
   "cell_type": "code",
   "execution_count": 23,
   "metadata": {},
   "outputs": [
    {
     "data": {
      "text/html": [
       "<div>\n",
       "<style>\n",
       "    .dataframe thead tr:only-child th {\n",
       "        text-align: right;\n",
       "    }\n",
       "\n",
       "    .dataframe thead th {\n",
       "        text-align: left;\n",
       "    }\n",
       "\n",
       "    .dataframe tbody tr th {\n",
       "        vertical-align: top;\n",
       "    }\n",
       "</style>\n",
       "<table border=\"1\" class=\"dataframe\">\n",
       "  <thead>\n",
       "    <tr style=\"text-align: right;\">\n",
       "      <th></th>\n",
       "      <th>first_active_month</th>\n",
       "      <th>card_id</th>\n",
       "      <th>feature_1</th>\n",
       "      <th>feature_2</th>\n",
       "      <th>feature_3</th>\n",
       "      <th>target</th>\n",
       "      <th>first_active_month_year</th>\n",
       "      <th>first_active_month_weekday</th>\n",
       "      <th>first_active_month_month</th>\n",
       "      <th>elapsed_time</th>\n",
       "    </tr>\n",
       "  </thead>\n",
       "  <tbody>\n",
       "    <tr>\n",
       "      <th>0</th>\n",
       "      <td>2017-06-01</td>\n",
       "      <td>C_ID_92a2005557</td>\n",
       "      <td>5</td>\n",
       "      <td>2</td>\n",
       "      <td>1</td>\n",
       "      <td>-0.820283</td>\n",
       "      <td>2017</td>\n",
       "      <td>3</td>\n",
       "      <td>6</td>\n",
       "      <td>245</td>\n",
       "    </tr>\n",
       "    <tr>\n",
       "      <th>1</th>\n",
       "      <td>2017-01-01</td>\n",
       "      <td>C_ID_3d0044924f</td>\n",
       "      <td>4</td>\n",
       "      <td>1</td>\n",
       "      <td>0</td>\n",
       "      <td>0.392913</td>\n",
       "      <td>2017</td>\n",
       "      <td>6</td>\n",
       "      <td>1</td>\n",
       "      <td>396</td>\n",
       "    </tr>\n",
       "    <tr>\n",
       "      <th>2</th>\n",
       "      <td>2016-08-01</td>\n",
       "      <td>C_ID_d639edf6cd</td>\n",
       "      <td>2</td>\n",
       "      <td>2</td>\n",
       "      <td>0</td>\n",
       "      <td>0.688056</td>\n",
       "      <td>2016</td>\n",
       "      <td>0</td>\n",
       "      <td>8</td>\n",
       "      <td>549</td>\n",
       "    </tr>\n",
       "    <tr>\n",
       "      <th>3</th>\n",
       "      <td>2017-09-01</td>\n",
       "      <td>C_ID_186d6a6901</td>\n",
       "      <td>4</td>\n",
       "      <td>3</td>\n",
       "      <td>0</td>\n",
       "      <td>0.142495</td>\n",
       "      <td>2017</td>\n",
       "      <td>4</td>\n",
       "      <td>9</td>\n",
       "      <td>153</td>\n",
       "    </tr>\n",
       "    <tr>\n",
       "      <th>4</th>\n",
       "      <td>2017-11-01</td>\n",
       "      <td>C_ID_cdbd2c0db2</td>\n",
       "      <td>1</td>\n",
       "      <td>3</td>\n",
       "      <td>0</td>\n",
       "      <td>-0.159749</td>\n",
       "      <td>2017</td>\n",
       "      <td>2</td>\n",
       "      <td>11</td>\n",
       "      <td>92</td>\n",
       "    </tr>\n",
       "  </tbody>\n",
       "</table>\n",
       "</div>"
      ],
      "text/plain": [
       "  first_active_month          card_id  feature_1  feature_2  feature_3  \\\n",
       "0         2017-06-01  C_ID_92a2005557          5          2          1   \n",
       "1         2017-01-01  C_ID_3d0044924f          4          1          0   \n",
       "2         2016-08-01  C_ID_d639edf6cd          2          2          0   \n",
       "3         2017-09-01  C_ID_186d6a6901          4          3          0   \n",
       "4         2017-11-01  C_ID_cdbd2c0db2          1          3          0   \n",
       "\n",
       "     target  first_active_month_year  first_active_month_weekday  \\\n",
       "0 -0.820283                     2017                           3   \n",
       "1  0.392913                     2017                           6   \n",
       "2  0.688056                     2016                           0   \n",
       "3  0.142495                     2017                           4   \n",
       "4 -0.159749                     2017                           2   \n",
       "\n",
       "   first_active_month_month  elapsed_time  \n",
       "0                         6           245  \n",
       "1                         1           396  \n",
       "2                         8           549  \n",
       "3                         9           153  \n",
       "4                        11            92  "
      ]
     },
     "execution_count": 23,
     "metadata": {},
     "output_type": "execute_result"
    }
   ],
   "source": [
    "train.head()"
   ]
  },
  {
   "cell_type": "code",
   "execution_count": 49,
   "metadata": {
    "collapsed": true
   },
   "outputs": [],
   "source": [
    "pd.to_pickle(train, '../data/train.pkl')\n",
    "pd.to_pickle(test, '../data/test.pkl')"
   ]
  },
  {
   "cell_type": "code",
   "execution_count": 52,
   "metadata": {
    "collapsed": true
   },
   "outputs": [],
   "source": [
    "\n",
    "del(train)\n",
    "del(test)"
   ]
  },
  {
   "cell_type": "markdown",
   "metadata": {},
   "source": [
    "# historycal_transactions"
   ]
  },
  {
   "cell_type": "code",
   "execution_count": 26,
   "metadata": {},
   "outputs": [
    {
     "data": {
      "text/html": [
       "<div>\n",
       "<style>\n",
       "    .dataframe thead tr:only-child th {\n",
       "        text-align: right;\n",
       "    }\n",
       "\n",
       "    .dataframe thead th {\n",
       "        text-align: left;\n",
       "    }\n",
       "\n",
       "    .dataframe tbody tr th {\n",
       "        vertical-align: top;\n",
       "    }\n",
       "</style>\n",
       "<table border=\"1\" class=\"dataframe\">\n",
       "  <thead>\n",
       "    <tr style=\"text-align: right;\">\n",
       "      <th></th>\n",
       "      <th>historical_transactions.csv</th>\n",
       "      <th>Unnamed: 1</th>\n",
       "    </tr>\n",
       "  </thead>\n",
       "  <tbody>\n",
       "    <tr>\n",
       "      <th>0</th>\n",
       "      <td>NaN</td>\n",
       "      <td>NaN</td>\n",
       "    </tr>\n",
       "    <tr>\n",
       "      <th>1</th>\n",
       "      <td>Columns</td>\n",
       "      <td>Description</td>\n",
       "    </tr>\n",
       "    <tr>\n",
       "      <th>2</th>\n",
       "      <td>card_id</td>\n",
       "      <td>Card identifier</td>\n",
       "    </tr>\n",
       "    <tr>\n",
       "      <th>3</th>\n",
       "      <td>month_lag</td>\n",
       "      <td>month lag to reference date</td>\n",
       "    </tr>\n",
       "    <tr>\n",
       "      <th>4</th>\n",
       "      <td>purchase_date</td>\n",
       "      <td>Purchase date</td>\n",
       "    </tr>\n",
       "    <tr>\n",
       "      <th>5</th>\n",
       "      <td>authorized_flag</td>\n",
       "      <td>Y' if approved, 'N' if denied</td>\n",
       "    </tr>\n",
       "    <tr>\n",
       "      <th>6</th>\n",
       "      <td>category_3</td>\n",
       "      <td>anonymized category</td>\n",
       "    </tr>\n",
       "    <tr>\n",
       "      <th>7</th>\n",
       "      <td>installments</td>\n",
       "      <td>number of installments of purchase</td>\n",
       "    </tr>\n",
       "    <tr>\n",
       "      <th>8</th>\n",
       "      <td>category_1</td>\n",
       "      <td>anonymized category</td>\n",
       "    </tr>\n",
       "    <tr>\n",
       "      <th>9</th>\n",
       "      <td>merchant_category_id</td>\n",
       "      <td>Merchant category identifier (anonymized )</td>\n",
       "    </tr>\n",
       "    <tr>\n",
       "      <th>10</th>\n",
       "      <td>subsector_id</td>\n",
       "      <td>Merchant category group identifier (anonymized )</td>\n",
       "    </tr>\n",
       "    <tr>\n",
       "      <th>11</th>\n",
       "      <td>merchant_id</td>\n",
       "      <td>Merchant identifier (anonymized)</td>\n",
       "    </tr>\n",
       "    <tr>\n",
       "      <th>12</th>\n",
       "      <td>purchase_amount</td>\n",
       "      <td>Normalized purchase amount</td>\n",
       "    </tr>\n",
       "    <tr>\n",
       "      <th>13</th>\n",
       "      <td>city_id</td>\n",
       "      <td>City identifier (anonymized )</td>\n",
       "    </tr>\n",
       "    <tr>\n",
       "      <th>14</th>\n",
       "      <td>state_id</td>\n",
       "      <td>State identifier (anonymized )</td>\n",
       "    </tr>\n",
       "    <tr>\n",
       "      <th>15</th>\n",
       "      <td>category_2</td>\n",
       "      <td>anonymized category</td>\n",
       "    </tr>\n",
       "  </tbody>\n",
       "</table>\n",
       "</div>"
      ],
      "text/plain": [
       "   historical_transactions.csv  \\\n",
       "0                          NaN   \n",
       "1                      Columns   \n",
       "2                      card_id   \n",
       "3                    month_lag   \n",
       "4                purchase_date   \n",
       "5              authorized_flag   \n",
       "6                   category_3   \n",
       "7                 installments   \n",
       "8                   category_1   \n",
       "9         merchant_category_id   \n",
       "10                subsector_id   \n",
       "11                 merchant_id   \n",
       "12             purchase_amount   \n",
       "13                     city_id   \n",
       "14                    state_id   \n",
       "15                  category_2   \n",
       "\n",
       "                                          Unnamed: 1  \n",
       "0                                                NaN  \n",
       "1                                        Description  \n",
       "2                                    Card identifier  \n",
       "3                        month lag to reference date  \n",
       "4                                      Purchase date  \n",
       "5                      Y' if approved, 'N' if denied  \n",
       "6                                anonymized category  \n",
       "7                 number of installments of purchase  \n",
       "8                                anonymized category  \n",
       "9         Merchant category identifier (anonymized )  \n",
       "10  Merchant category group identifier (anonymized )  \n",
       "11                  Merchant identifier (anonymized)  \n",
       "12                        Normalized purchase amount  \n",
       "13                     City identifier (anonymized )  \n",
       "14                    State identifier (anonymized )  \n",
       "15                               anonymized category  "
      ]
     },
     "execution_count": 26,
     "metadata": {},
     "output_type": "execute_result"
    }
   ],
   "source": [
    "historical_transactions = pd.read_csv('../data/historical_transactions.csv')\n",
    "e = pd.read_excel('../data/Data_Dictionary.xlsx',  sheetname='history')\n",
    "e"
   ]
  },
  {
   "cell_type": "code",
   "execution_count": 27,
   "metadata": {},
   "outputs": [
    {
     "data": {
      "text/html": [
       "<div>\n",
       "<style>\n",
       "    .dataframe thead tr:only-child th {\n",
       "        text-align: right;\n",
       "    }\n",
       "\n",
       "    .dataframe thead th {\n",
       "        text-align: left;\n",
       "    }\n",
       "\n",
       "    .dataframe tbody tr th {\n",
       "        vertical-align: top;\n",
       "    }\n",
       "</style>\n",
       "<table border=\"1\" class=\"dataframe\">\n",
       "  <thead>\n",
       "    <tr style=\"text-align: right;\">\n",
       "      <th></th>\n",
       "      <th>authorized_flag</th>\n",
       "      <th>card_id</th>\n",
       "      <th>city_id</th>\n",
       "      <th>category_1</th>\n",
       "      <th>installments</th>\n",
       "      <th>category_3</th>\n",
       "      <th>merchant_category_id</th>\n",
       "      <th>merchant_id</th>\n",
       "      <th>month_lag</th>\n",
       "      <th>purchase_amount</th>\n",
       "      <th>purchase_date</th>\n",
       "      <th>category_2</th>\n",
       "      <th>state_id</th>\n",
       "      <th>subsector_id</th>\n",
       "    </tr>\n",
       "  </thead>\n",
       "  <tbody>\n",
       "    <tr>\n",
       "      <th>0</th>\n",
       "      <td>Y</td>\n",
       "      <td>C_ID_4e6213e9bc</td>\n",
       "      <td>88</td>\n",
       "      <td>N</td>\n",
       "      <td>0</td>\n",
       "      <td>A</td>\n",
       "      <td>80</td>\n",
       "      <td>M_ID_e020e9b302</td>\n",
       "      <td>-8</td>\n",
       "      <td>-0.703331</td>\n",
       "      <td>2017-06-25 15:33:07</td>\n",
       "      <td>1.0</td>\n",
       "      <td>16</td>\n",
       "      <td>37</td>\n",
       "    </tr>\n",
       "    <tr>\n",
       "      <th>1</th>\n",
       "      <td>Y</td>\n",
       "      <td>C_ID_4e6213e9bc</td>\n",
       "      <td>88</td>\n",
       "      <td>N</td>\n",
       "      <td>0</td>\n",
       "      <td>A</td>\n",
       "      <td>367</td>\n",
       "      <td>M_ID_86ec983688</td>\n",
       "      <td>-7</td>\n",
       "      <td>-0.733128</td>\n",
       "      <td>2017-07-15 12:10:45</td>\n",
       "      <td>1.0</td>\n",
       "      <td>16</td>\n",
       "      <td>16</td>\n",
       "    </tr>\n",
       "    <tr>\n",
       "      <th>2</th>\n",
       "      <td>Y</td>\n",
       "      <td>C_ID_4e6213e9bc</td>\n",
       "      <td>88</td>\n",
       "      <td>N</td>\n",
       "      <td>0</td>\n",
       "      <td>A</td>\n",
       "      <td>80</td>\n",
       "      <td>M_ID_979ed661fc</td>\n",
       "      <td>-6</td>\n",
       "      <td>-0.720386</td>\n",
       "      <td>2017-08-09 22:04:29</td>\n",
       "      <td>1.0</td>\n",
       "      <td>16</td>\n",
       "      <td>37</td>\n",
       "    </tr>\n",
       "    <tr>\n",
       "      <th>3</th>\n",
       "      <td>Y</td>\n",
       "      <td>C_ID_4e6213e9bc</td>\n",
       "      <td>88</td>\n",
       "      <td>N</td>\n",
       "      <td>0</td>\n",
       "      <td>A</td>\n",
       "      <td>560</td>\n",
       "      <td>M_ID_e6d5ae8ea6</td>\n",
       "      <td>-5</td>\n",
       "      <td>-0.735352</td>\n",
       "      <td>2017-09-02 10:06:26</td>\n",
       "      <td>1.0</td>\n",
       "      <td>16</td>\n",
       "      <td>34</td>\n",
       "    </tr>\n",
       "    <tr>\n",
       "      <th>4</th>\n",
       "      <td>Y</td>\n",
       "      <td>C_ID_4e6213e9bc</td>\n",
       "      <td>88</td>\n",
       "      <td>N</td>\n",
       "      <td>0</td>\n",
       "      <td>A</td>\n",
       "      <td>80</td>\n",
       "      <td>M_ID_e020e9b302</td>\n",
       "      <td>-11</td>\n",
       "      <td>-0.722865</td>\n",
       "      <td>2017-03-10 01:14:19</td>\n",
       "      <td>1.0</td>\n",
       "      <td>16</td>\n",
       "      <td>37</td>\n",
       "    </tr>\n",
       "  </tbody>\n",
       "</table>\n",
       "</div>"
      ],
      "text/plain": [
       "  authorized_flag          card_id  city_id category_1  installments  \\\n",
       "0               Y  C_ID_4e6213e9bc       88          N             0   \n",
       "1               Y  C_ID_4e6213e9bc       88          N             0   \n",
       "2               Y  C_ID_4e6213e9bc       88          N             0   \n",
       "3               Y  C_ID_4e6213e9bc       88          N             0   \n",
       "4               Y  C_ID_4e6213e9bc       88          N             0   \n",
       "\n",
       "  category_3  merchant_category_id      merchant_id  month_lag  \\\n",
       "0          A                    80  M_ID_e020e9b302         -8   \n",
       "1          A                   367  M_ID_86ec983688         -7   \n",
       "2          A                    80  M_ID_979ed661fc         -6   \n",
       "3          A                   560  M_ID_e6d5ae8ea6         -5   \n",
       "4          A                    80  M_ID_e020e9b302        -11   \n",
       "\n",
       "   purchase_amount        purchase_date  category_2  state_id  subsector_id  \n",
       "0        -0.703331  2017-06-25 15:33:07         1.0        16            37  \n",
       "1        -0.733128  2017-07-15 12:10:45         1.0        16            16  \n",
       "2        -0.720386  2017-08-09 22:04:29         1.0        16            37  \n",
       "3        -0.735352  2017-09-02 10:06:26         1.0        16            34  \n",
       "4        -0.722865  2017-03-10 01:14:19         1.0        16            37  "
      ]
     },
     "execution_count": 27,
     "metadata": {},
     "output_type": "execute_result"
    }
   ],
   "source": [
    "historical_transactions.head()"
   ]
  },
  {
   "cell_type": "code",
   "execution_count": 28,
   "metadata": {
    "collapsed": true
   },
   "outputs": [],
   "source": [
    "historical_transactions['authorized_flag'] = historical_transactions['authorized_flag'].apply(lambda x: 1 if x == 'Y' else 0)"
   ]
  },
  {
   "cell_type": "code",
   "execution_count": 29,
   "metadata": {},
   "outputs": [
    {
     "name": "stdout",
     "output_type": "stream",
     "text": [
      "At average 91.3545% transactions are authorized\n"
     ]
    },
    {
     "data": {
      "image/png": "[encoded data removed]",
      "text/plain": [
       "<matplotlib.figure.Figure at 0x1a0bb57e80>"
      ]
     },
     "metadata": {},
     "output_type": "display_data"
    }
   ],
   "source": [
    "print(f\"At average {historical_transactions['authorized_flag'].mean() * 100:.4f}% transactions are authorized\")\n",
    "historical_transactions['authorized_flag'].value_counts().plot(kind='barh', title='authorized_flag value counts');"
   ]
  },
  {
   "cell_type": "code",
   "execution_count": 30,
   "metadata": {},
   "outputs": [
    {
     "data": {
      "text/plain": [
       "325540"
      ]
     },
     "metadata": {},
     "output_type": "display_data"
    },
    {
     "data": {
      "text/plain": [
       "201917"
      ]
     },
     "metadata": {},
     "output_type": "display_data"
    },
    {
     "data": {
      "text/plain": [
       "123623"
      ]
     },
     "metadata": {},
     "output_type": "display_data"
    }
   ],
   "source": [
    "# card_idのそれぞれの数\n",
    "display(historical_transactions.card_id.nunique(), train.card_id.nunique(), test.card_id.nunique())"
   ]
  },
  {
   "cell_type": "markdown",
   "metadata": {},
   "source": [
    "card_id 毎にTest、Trainが決まっている　今回のものには全て登場してそう　重いので処理せず"
   ]
  },
  {
   "cell_type": "code",
   "execution_count": 32,
   "metadata": {},
   "outputs": [
    {
     "data": {
      "text/plain": [
       "card_id\n",
       "C_ID_744d26ea32    0.030488\n",
       "C_ID_bb8dd137c9    0.037037\n",
       "C_ID_e56202cd39    0.042105\n",
       "C_ID_4feacff118    0.050000\n",
       "C_ID_c27b4f80f7    0.054545\n",
       "Name: authorized_flag, dtype: float64"
      ]
     },
     "execution_count": 32,
     "metadata": {},
     "output_type": "execute_result"
    }
   ],
   "source": [
    "autorized_card_rate = historical_transactions.groupby(['card_id'])['authorized_flag'].mean().sort_values()\n",
    "autorized_card_rate.head()\n",
    "# 承認されにくい人ランキング"
   ]
  },
  {
   "cell_type": "code",
   "execution_count": 33,
   "metadata": {},
   "outputs": [
    {
     "data": {
      "text/plain": [
       "card_id\n",
       "C_ID_d048b7cc60    1.0\n",
       "C_ID_4e45fcdb43    1.0\n",
       "C_ID_9f3ee1305e    1.0\n",
       "C_ID_1b52a3e21b    1.0\n",
       "C_ID_d3c3d988d5    1.0\n",
       "Name: authorized_flag, dtype: float64"
      ]
     },
     "execution_count": 33,
     "metadata": {},
     "output_type": "execute_result"
    }
   ],
   "source": [
    "autorized_card_rate.tail() # 承認されやすい人ランキング"
   ]
  },
  {
   "cell_type": "markdown",
   "metadata": {},
   "source": [
    "## installments 分割"
   ]
  },
  {
   "cell_type": "code",
   "execution_count": 34,
   "metadata": {},
   "outputs": [
    {
     "data": {
      "text/plain": [
       " 0      15411747\n",
       " 1      11677522\n",
       " 2        666416\n",
       " 3        538207\n",
       " 4        179525\n",
       "-1        178159\n",
       " 6        132634\n",
       " 10       118827\n",
       " 5        116090\n",
       " 12        55064\n",
       " 8         20474\n",
       " 7         10906\n",
       " 9          5772\n",
       " 11          830\n",
       " 999         188\n",
       "Name: installments, dtype: int64"
      ]
     },
     "execution_count": 34,
     "metadata": {},
     "output_type": "execute_result"
    }
   ],
   "source": [
    "historical_transactions['installments'].value_counts()"
   ]
  },
  {
   "cell_type": "markdown",
   "metadata": {},
   "source": [
    "ほとんどの人が分割せずに購入　-1、９９９という値が気になる あとは想定どおりな回数な気がする"
   ]
  },
  {
   "cell_type": "code",
   "execution_count": 35,
   "metadata": {},
   "outputs": [
    {
     "data": {
      "text/plain": [
       "installments\n",
       "-1      0.885692\n",
       " 0      0.928032\n",
       " 1      0.907024\n",
       " 2      0.884020\n",
       " 3      0.862254\n",
       " 4      0.819903\n",
       " 5      0.809183\n",
       " 6      0.779732\n",
       " 7      0.693196\n",
       " 8      0.692439\n",
       " 9      0.663721\n",
       " 10     0.702021\n",
       " 11     0.660241\n",
       " 12     0.653694\n",
       " 999    0.031915\n",
       "Name: authorized_flag, dtype: float64"
      ]
     },
     "execution_count": 35,
     "metadata": {},
     "output_type": "execute_result"
    }
   ],
   "source": [
    "historical_transactions.groupby(['installments'])['authorized_flag'].mean()"
   ]
  },
  {
   "cell_type": "markdown",
   "metadata": {},
   "source": [
    "999は不正取引なため承認されないようない？　また分割が増えれば増えるほど承認されにくい"
   ]
  },
  {
   "cell_type": "code",
   "execution_count": 36,
   "metadata": {
    "collapsed": true
   },
   "outputs": [],
   "source": [
    "historical_transactions['installments'] = historical_transactions['installments'].astype('category')\n",
    "historical_transactions['purchase_date'] = pd.to_datetime(historical_transactions['purchase_date'])"
   ]
  },
  {
   "cell_type": "markdown",
   "metadata": {},
   "source": [
    "## purcahse_amount\n",
    "\n",
    "正規化されたデータらしい"
   ]
  },
  {
   "cell_type": "code",
   "execution_count": 37,
   "metadata": {},
   "outputs": [
    {
     "data": {
      "image/png": "[encoded data removed]",
      "text/plain": [
       "<matplotlib.figure.Figure at 0x1a0cfe0668>"
      ]
     },
     "metadata": {},
     "output_type": "display_data"
    }
   ],
   "source": [
    "plt.title('Purchase amount distribution.');\n",
    "historical_transactions['purchase_amount'].plot(kind='hist');"
   ]
  },
  {
   "cell_type": "code",
   "execution_count": 38,
   "metadata": {},
   "outputs": [
    {
     "name": "stdout",
     "output_type": "stream",
     "text": [
      "There are 0 transactions with purchase_amount less than -1.\n",
      "There are 28036884 transactions with purchase_amount less than 0.\n",
      "There are 1075467 transactions with purchase_amount more than 0.\n",
      "There are 14924 transactions with purchase_amount more than 10.\n",
      "There are 1183 transactions with purchase_amount more than 100.\n"
     ]
    }
   ],
   "source": [
    "for i in [-1, 0]:\n",
    "    n = historical_transactions.loc[historical_transactions['purchase_amount'] < i].shape[0]\n",
    "    print(f\"There are {n} transactions with purchase_amount less than {i}.\")\n",
    "for i in [0, 10, 100]:\n",
    "    n = historical_transactions.loc[historical_transactions['purchase_amount'] > i].shape[0]\n",
    "    print(f\"There are {n} transactions with purchase_amount more than {i}.\")"
   ]
  },
  {
   "cell_type": "code",
   "execution_count": 42,
   "metadata": {},
   "outputs": [
    {
     "name": "stdout",
     "output_type": "stream",
     "text": [
      "mean of historical_transactions are 0.03640090136488929 \n",
      "mean of historical_transactions are 1123.5216483035226 \n"
     ]
    }
   ],
   "source": [
    "print(f\"mean of historical_transactions are {historical_transactions['purchase_amount'].mean()} \")\n",
    "print(f\"mean of historical_transactions are {historical_transactions['purchase_amount'].std()} \")"
   ]
  },
  {
   "cell_type": "code",
   "execution_count": 43,
   "metadata": {},
   "outputs": [
    {
     "data": {
      "image/png": "[encoded data removed]",
      "text/plain": [
       "<matplotlib.figure.Figure at 0x1a0ae12f98>"
      ]
     },
     "metadata": {},
     "output_type": "display_data"
    }
   ],
   "source": [
    "plt.title('Purchase amount distribution for negative values.');\n",
    "historical_transactions.loc[historical_transactions['purchase_amount'] < 0, 'purchase_amount'].plot(kind='hist');"
   ]
  },
  {
   "cell_type": "code",
   "execution_count": 47,
   "metadata": {},
   "outputs": [
    {
     "data": {
      "image/png": "[encoded data removed]",
      "text/plain": [
       "<matplotlib.figure.Figure at 0x1a0ba73cf8>"
      ]
     },
     "metadata": {},
     "output_type": "display_data"
    }
   ],
   "source": [
    "plt.title('Purchase amount distribution for postive values.')\n",
    "np.log(historical_transactions.loc[historical_transactions['purchase_amount'] > 0, 'purchase_amount']).plot(kind='hist');"
   ]
  },
  {
   "cell_type": "markdown",
   "metadata": {},
   "source": [
    "## Categories"
   ]
  },
  {
   "cell_type": "code",
   "execution_count": 53,
   "metadata": {},
   "outputs": [
    {
     "data": {
      "text/html": [
       "<div>\n",
       "<style>\n",
       "    .dataframe thead tr:only-child th {\n",
       "        text-align: right;\n",
       "    }\n",
       "\n",
       "    .dataframe thead th {\n",
       "        text-align: left;\n",
       "    }\n",
       "\n",
       "    .dataframe tbody tr th {\n",
       "        vertical-align: top;\n",
       "    }\n",
       "</style>\n",
       "<table border=\"1\" class=\"dataframe\">\n",
       "  <thead>\n",
       "    <tr>\n",
       "      <th></th>\n",
       "      <th colspan=\"3\" halign=\"left\">purchase_amount</th>\n",
       "      <th colspan=\"2\" halign=\"left\">authorized_flag</th>\n",
       "    </tr>\n",
       "    <tr>\n",
       "      <th></th>\n",
       "      <th>mean</th>\n",
       "      <th>std</th>\n",
       "      <th>count</th>\n",
       "      <th>mean</th>\n",
       "      <th>std</th>\n",
       "    </tr>\n",
       "    <tr>\n",
       "      <th>category_1</th>\n",
       "      <th></th>\n",
       "      <th></th>\n",
       "      <th></th>\n",
       "      <th></th>\n",
       "      <th></th>\n",
       "    </tr>\n",
       "  </thead>\n",
       "  <tbody>\n",
       "    <tr>\n",
       "      <th>0</th>\n",
       "      <td>-0.419327</td>\n",
       "      <td>22.087594</td>\n",
       "      <td>2084029</td>\n",
       "      <td>0.748578</td>\n",
       "      <td>0.433830</td>\n",
       "    </tr>\n",
       "    <tr>\n",
       "      <th>1</th>\n",
       "      <td>0.071540</td>\n",
       "      <td>1166.016045</td>\n",
       "      <td>27028332</td>\n",
       "      <td>0.926265</td>\n",
       "      <td>0.261339</td>\n",
       "    </tr>\n",
       "  </tbody>\n",
       "</table>\n",
       "</div>"
      ],
      "text/plain": [
       "           purchase_amount                        authorized_flag          \n",
       "                      mean          std     count            mean       std\n",
       "category_1                                                                 \n",
       "0                -0.419327    22.087594   2084029        0.748578  0.433830\n",
       "1                 0.071540  1166.016045  27028332        0.926265  0.261339"
      ]
     },
     "execution_count": 53,
     "metadata": {},
     "output_type": "execute_result"
    }
   ],
   "source": [
    "map_dict = {'Y': 0, 'N': 1}\n",
    "historical_transactions['category_1'] = historical_transactions['category_1'].apply(lambda x: map_dict[x])\n",
    "# historical_transactions.groupby(['category_1']).agg({'purchase_amount': ['mean', 'std', 'count'], 'authorized_flag': ['mean', 'std']})"
   ]
  },
  {
   "cell_type": "code",
   "execution_count": 54,
   "metadata": {},
   "outputs": [
    {
     "data": {
      "text/html": [
       "<div>\n",
       "<style>\n",
       "    .dataframe thead tr:only-child th {\n",
       "        text-align: right;\n",
       "    }\n",
       "\n",
       "    .dataframe thead th {\n",
       "        text-align: left;\n",
       "    }\n",
       "\n",
       "    .dataframe tbody tr th {\n",
       "        vertical-align: top;\n",
       "    }\n",
       "</style>\n",
       "<table border=\"1\" class=\"dataframe\">\n",
       "  <thead>\n",
       "    <tr>\n",
       "      <th></th>\n",
       "      <th colspan=\"3\" halign=\"left\">purchase_amount</th>\n",
       "      <th colspan=\"2\" halign=\"left\">authorized_flag</th>\n",
       "    </tr>\n",
       "    <tr>\n",
       "      <th></th>\n",
       "      <th>mean</th>\n",
       "      <th>std</th>\n",
       "      <th>count</th>\n",
       "      <th>mean</th>\n",
       "      <th>std</th>\n",
       "    </tr>\n",
       "    <tr>\n",
       "      <th>category_2</th>\n",
       "      <th></th>\n",
       "      <th></th>\n",
       "      <th></th>\n",
       "      <th></th>\n",
       "      <th></th>\n",
       "    </tr>\n",
       "  </thead>\n",
       "  <tbody>\n",
       "    <tr>\n",
       "      <th>1.0</th>\n",
       "      <td>0.149570</td>\n",
       "      <td>1548.714128</td>\n",
       "      <td>15177199</td>\n",
       "      <td>0.927505</td>\n",
       "      <td>0.259306</td>\n",
       "    </tr>\n",
       "    <tr>\n",
       "      <th>2.0</th>\n",
       "      <td>-0.165690</td>\n",
       "      <td>89.285770</td>\n",
       "      <td>1026535</td>\n",
       "      <td>0.906225</td>\n",
       "      <td>0.291515</td>\n",
       "    </tr>\n",
       "    <tr>\n",
       "      <th>3.0</th>\n",
       "      <td>0.180375</td>\n",
       "      <td>210.616100</td>\n",
       "      <td>3911795</td>\n",
       "      <td>0.918857</td>\n",
       "      <td>0.273055</td>\n",
       "    </tr>\n",
       "    <tr>\n",
       "      <th>4.0</th>\n",
       "      <td>-0.158951</td>\n",
       "      <td>141.945606</td>\n",
       "      <td>2618053</td>\n",
       "      <td>0.927634</td>\n",
       "      <td>0.259094</td>\n",
       "    </tr>\n",
       "    <tr>\n",
       "      <th>5.0</th>\n",
       "      <td>-0.104457</td>\n",
       "      <td>162.428785</td>\n",
       "      <td>3725915</td>\n",
       "      <td>0.934260</td>\n",
       "      <td>0.247826</td>\n",
       "    </tr>\n",
       "  </tbody>\n",
       "</table>\n",
       "</div>"
      ],
      "text/plain": [
       "           purchase_amount                        authorized_flag          \n",
       "                      mean          std     count            mean       std\n",
       "category_2                                                                 \n",
       "1.0               0.149570  1548.714128  15177199        0.927505  0.259306\n",
       "2.0              -0.165690    89.285770   1026535        0.906225  0.291515\n",
       "3.0               0.180375   210.616100   3911795        0.918857  0.273055\n",
       "4.0              -0.158951   141.945606   2618053        0.927634  0.259094\n",
       "5.0              -0.104457   162.428785   3725915        0.934260  0.247826"
      ]
     },
     "execution_count": 54,
     "metadata": {},
     "output_type": "execute_result"
    }
   ],
   "source": [
    "# historical_transactions.groupby(['category_2']).agg({'purchase_amount': ['mean', 'std', 'count'], 'authorized_flag': ['mean', 'std']})"
   ]
  },
  {
   "cell_type": "code",
   "execution_count": 55,
   "metadata": {},
   "outputs": [
    {
     "data": {
      "text/html": [
       "<div>\n",
       "<style>\n",
       "    .dataframe thead tr:only-child th {\n",
       "        text-align: right;\n",
       "    }\n",
       "\n",
       "    .dataframe thead th {\n",
       "        text-align: left;\n",
       "    }\n",
       "\n",
       "    .dataframe tbody tr th {\n",
       "        vertical-align: top;\n",
       "    }\n",
       "</style>\n",
       "<table border=\"1\" class=\"dataframe\">\n",
       "  <thead>\n",
       "    <tr>\n",
       "      <th></th>\n",
       "      <th colspan=\"3\" halign=\"left\">purchase_amount</th>\n",
       "      <th colspan=\"2\" halign=\"left\">authorized_flag</th>\n",
       "    </tr>\n",
       "    <tr>\n",
       "      <th></th>\n",
       "      <th>mean</th>\n",
       "      <th>std</th>\n",
       "      <th>count</th>\n",
       "      <th>mean</th>\n",
       "      <th>std</th>\n",
       "    </tr>\n",
       "    <tr>\n",
       "      <th>category_3</th>\n",
       "      <th></th>\n",
       "      <th></th>\n",
       "      <th></th>\n",
       "      <th></th>\n",
       "      <th></th>\n",
       "    </tr>\n",
       "  </thead>\n",
       "  <tbody>\n",
       "    <tr>\n",
       "      <th>0</th>\n",
       "      <td>0.361926</td>\n",
       "      <td>1541.485188</td>\n",
       "      <td>15411747</td>\n",
       "      <td>0.928032</td>\n",
       "      <td>0.258436</td>\n",
       "    </tr>\n",
       "    <tr>\n",
       "      <th>1</th>\n",
       "      <td>-0.404556</td>\n",
       "      <td>104.062692</td>\n",
       "      <td>11677522</td>\n",
       "      <td>0.907024</td>\n",
       "      <td>0.290399</td>\n",
       "    </tr>\n",
       "    <tr>\n",
       "      <th>2</th>\n",
       "      <td>0.106023</td>\n",
       "      <td>24.047655</td>\n",
       "      <td>1844933</td>\n",
       "      <td>0.836498</td>\n",
       "      <td>0.369824</td>\n",
       "    </tr>\n",
       "    <tr>\n",
       "      <th>3</th>\n",
       "      <td>0.058447</td>\n",
       "      <td>2.191567</td>\n",
       "      <td>178159</td>\n",
       "      <td>0.885692</td>\n",
       "      <td>0.318186</td>\n",
       "    </tr>\n",
       "  </tbody>\n",
       "</table>\n",
       "</div>"
      ],
      "text/plain": [
       "           purchase_amount                        authorized_flag          \n",
       "                      mean          std     count            mean       std\n",
       "category_3                                                                 \n",
       "0                 0.361926  1541.485188  15411747        0.928032  0.258436\n",
       "1                -0.404556   104.062692  11677522        0.907024  0.290399\n",
       "2                 0.106023    24.047655   1844933        0.836498  0.369824\n",
       "3                 0.058447     2.191567    178159        0.885692  0.318186"
      ]
     },
     "execution_count": 55,
     "metadata": {},
     "output_type": "execute_result"
    }
   ],
   "source": [
    "map_dict = {'A': 0, 'B': 1, 'C': 2, 'nan': 3}\n",
    "historical_transactions['category_3'] = historical_transactions['category_3'].apply(lambda x: map_dict[str(x)])\n",
    "# historical_transactions.groupby(['category_3']).agg({'purchase_amount': ['mean', 'std', 'count'], 'authorized_flag': ['mean', 'std']})"
   ]
  },
  {
   "cell_type": "code",
   "execution_count": 58,
   "metadata": {
    "collapsed": true
   },
   "outputs": [],
   "source": [
    "# pd.to_pickle(historical_transactions, '../data/historical_transactions.pkl')\n",
    "import pickle\n",
    "import os.path\n",
    "\n",
    "file_path = '../data/historical_transactions.pkl'\n",
    "n_bytes = 2**31\n",
    "max_bytes = 2**31 - 1\n",
    "data = bytearray(n_bytes)\n",
    "\n",
    "## write\n",
    "bytes_out = pickle.dumps(data)\n",
    "with open(file_path, 'wb') as f_out:\n",
    "    for idx in range(0, len(bytes_out), max_bytes):\n",
    "        f_out.write(bytes_out[idx:idx+max_bytes])"
   ]
  },
  {
   "cell_type": "code",
   "execution_count": null,
   "metadata": {
    "collapsed": true
   },
   "outputs": [],
   "source": [
    "for col in ['city_id', 'merchant_category_id', 'merchant_id', 'state_id', 'subsector_id']:\n",
    "    print(f\"There are {historical_transactions[col].nunique()} unique values in {col}.\")"
   ]
  },
  {
   "cell_type": "code",
   "execution_count": 59,
   "metadata": {
    "collapsed": true
   },
   "outputs": [],
   "source": [
    "def aggregate_historical_transactions(trans, prefix):\n",
    "    # more features from this kernel: https://www.kaggle.com/chauhuynh/my-first-kernel-3-699\n",
    "    trans['purchase_month'] = trans['purchase_date'].dt.month\n",
    "#     trans['year'] = trans['purchase_date'].dt.year\n",
    "#     trans['weekofyear'] = trans['purchase_date'].dt.weekofyear\n",
    "#     trans['month'] = trans['purchase_date'].dt.month\n",
    "#     trans['dayofweek'] = trans['purchase_date'].dt.dayofweek\n",
    "#     trans['weekend'] = (trans.purchase_date.dt.weekday >=5).astype(int)\n",
    "#     trans['hour'] = trans['purchase_date'].dt.hour\n",
    "    trans['month_diff'] = ((datetime.datetime.today() - trans['purchase_date']).dt.days)//30\n",
    "    trans['month_diff'] += trans['month_lag']\n",
    "    trans['installments'] = trans['installments'].astype(int)\n",
    "\n",
    "    trans.loc[:, 'purchase_date'] = pd.DatetimeIndex(trans['purchase_date']). \\\n",
    "                                        astype(np.int64) * 1e-9\n",
    "    trans = pd.get_dummies(trans, columns=['category_2', 'category_3'])\n",
    "    agg_func = {\n",
    "        'authorized_flag': ['sum', 'mean'],\n",
    "        'category_1': ['sum', 'mean'],\n",
    "        'category_2_1.0': ['mean', 'sum'],\n",
    "        'category_2_2.0': ['mean', 'sum'],\n",
    "        'category_2_3.0': ['mean', 'sum'],\n",
    "        'category_2_4.0': ['mean', 'sum'],\n",
    "        'category_2_5.0': ['mean', 'sum'],\n",
    "        'category_3_1': ['sum', 'mean'],\n",
    "        'category_3_2': ['sum', 'mean'],\n",
    "        'category_3_3': ['sum', 'mean'],\n",
    "        'merchant_id': ['nunique'],\n",
    "        'purchase_amount': ['sum', 'mean', 'max', 'min', 'std'],\n",
    "        'installments': ['sum', 'mean', 'max', 'min', 'std'],\n",
    "        'purchase_month': ['mean', 'max', 'min', 'std'],\n",
    "        'purchase_date': [np.ptp, 'max', 'min'],\n",
    "        'month_lag': ['min', 'max'],\n",
    "        'merchant_category_id': ['nunique'],\n",
    "        'state_id': ['nunique'],\n",
    "        'subsector_id': ['nunique'],\n",
    "        'city_id': ['nunique'],\n",
    "        'month_diff': ['min', 'max', 'mean']\n",
    "    }\n",
    "    agg_trans = trans.groupby(['card_id']).agg(agg_func)\n",
    "    agg_trans.columns = [prefix + '_'.join(col).strip() for col in agg_trans.columns.values]\n",
    "    agg_trans.reset_index(inplace=True)\n",
    "\n",
    "    df = (trans.groupby('card_id')\n",
    "          .size()\n",
    "          .reset_index(name='{}transactions_count'.format(prefix)))\n",
    "\n",
    "    agg_trans = pd.merge(df, agg_trans, on='card_id', how='left')\n",
    "\n",
    "    return agg_trans"
   ]
  },
  {
   "cell_type": "code",
   "execution_count": 96,
   "metadata": {
    "collapsed": true
   },
   "outputs": [],
   "source": [
    "def aggregate_per_month(history):\n",
    "    grouped = history.groupby(['card_id', 'month_lag'])\n",
    "    history['installments'] = history['installments'].astype(int)\n",
    "    agg_func = {\n",
    "            'purchase_amount': ['count', 'sum', 'mean', 'min', 'max', 'std'],\n",
    "            'installments': ['count', 'sum', 'mean', 'min', 'max', 'std'],\n",
    "            }\n",
    "\n",
    "    intermediate_group = grouped.agg(agg_func)\n",
    "    intermediate_group.columns = ['_'.join(col).strip() for col in intermediate_group.columns.values]\n",
    "    intermediate_group.reset_index(inplace=True)\n",
    "\n",
    "    final_group = intermediate_group.groupby('card_id').agg(['mean', 'std'])\n",
    "    final_group.columns = ['_'.join(col).strip() for col in final_group.columns.values]\n",
    "    final_group.reset_index(inplace=True)\n",
    "    \n",
    "    return final_group\n",
    "\n",
    "final_group = aggregate_per_month(historical_transactions) "
   ]
  },
  {
   "cell_type": "code",
   "execution_count": 74,
   "metadata": {
    "collapsed": true
   },
   "outputs": [],
   "source": [
    "import sys; sys.path.append('/Users/tomo/Work/mymodule')"
   ]
  },
  {
   "cell_type": "code",
   "execution_count": 75,
   "metadata": {
    "collapsed": true
   },
   "outputs": [],
   "source": [
    "import reduce_mem_usage"
   ]
  },
  {
   "cell_type": "code",
   "execution_count": 97,
   "metadata": {
    "collapsed": true
   },
   "outputs": [],
   "source": [
    "pd.to_pickle(final_group, '../data/final_group.pkl')\n",
    "# del final_group"
   ]
  },
  {
   "cell_type": "code",
   "execution_count": 86,
   "metadata": {},
   "outputs": [
    {
     "name": "stdout",
     "output_type": "stream",
     "text": [
      "CPU times: user 6min 4s, sys: 46.3 s, total: 6min 50s\n",
      "Wall time: 16h 31min 19s\n"
     ]
    }
   ],
   "source": [
    "%%time\n",
    "gc.collect()\n",
    "# historical_transactions = reduce_mem_usage.get(historical_transactions)\n",
    "history = aggregate_historical_transactions(historical_transactions, prefix='hist_')\n",
    "# history = reduce_mem_usage.get(history)\n",
    "del historical_transactions\n",
    "gc.collect()"
   ]
  },
  {
   "cell_type": "code",
   "execution_count": 87,
   "metadata": {
    "collapsed": true
   },
   "outputs": [],
   "source": [
    "pd.to_pickle(history, '../data/history.pkl')"
   ]
  },
  {
   "cell_type": "code",
   "execution_count": 89,
   "metadata": {},
   "outputs": [
    {
     "data": {
      "text/html": [
       "<div>\n",
       "<style>\n",
       "    .dataframe thead tr:only-child th {\n",
       "        text-align: right;\n",
       "    }\n",
       "\n",
       "    .dataframe thead th {\n",
       "        text-align: left;\n",
       "    }\n",
       "\n",
       "    .dataframe tbody tr th {\n",
       "        vertical-align: top;\n",
       "    }\n",
       "</style>\n",
       "<table border=\"1\" class=\"dataframe\">\n",
       "  <thead>\n",
       "    <tr style=\"text-align: right;\">\n",
       "      <th></th>\n",
       "      <th>card_id</th>\n",
       "      <th>hist_transactions_count</th>\n",
       "      <th>hist_authorized_flag_sum</th>\n",
       "      <th>hist_authorized_flag_mean</th>\n",
       "      <th>hist_category_1_sum</th>\n",
       "      <th>hist_category_1_mean</th>\n",
       "      <th>hist_category_2_1.0_mean</th>\n",
       "      <th>hist_category_2_1.0_sum</th>\n",
       "      <th>hist_category_2_2.0_mean</th>\n",
       "      <th>hist_category_2_2.0_sum</th>\n",
       "      <th>...</th>\n",
       "      <th>hist_purchase_date_min</th>\n",
       "      <th>hist_month_lag_min</th>\n",
       "      <th>hist_month_lag_max</th>\n",
       "      <th>hist_merchant_category_id_nunique</th>\n",
       "      <th>hist_state_id_nunique</th>\n",
       "      <th>hist_subsector_id_nunique</th>\n",
       "      <th>hist_city_id_nunique</th>\n",
       "      <th>hist_month_diff_min</th>\n",
       "      <th>hist_month_diff_max</th>\n",
       "      <th>hist_month_diff_mean</th>\n",
       "    </tr>\n",
       "  </thead>\n",
       "  <tbody>\n",
       "    <tr>\n",
       "      <th>0</th>\n",
       "      <td>C_ID_00007093c1</td>\n",
       "      <td>149</td>\n",
       "      <td>114.0</td>\n",
       "      <td>0.765101</td>\n",
       "      <td>121.0</td>\n",
       "      <td>0.812081</td>\n",
       "      <td>0.000000</td>\n",
       "      <td>0.0</td>\n",
       "      <td>0.000000</td>\n",
       "      <td>0.0</td>\n",
       "      <td>...</td>\n",
       "      <td>1.487081e+09</td>\n",
       "      <td>-12</td>\n",
       "      <td>0</td>\n",
       "      <td>18</td>\n",
       "      <td>3</td>\n",
       "      <td>13</td>\n",
       "      <td>4</td>\n",
       "      <td>10</td>\n",
       "      <td>11</td>\n",
       "      <td>10.214765</td>\n",
       "    </tr>\n",
       "    <tr>\n",
       "      <th>1</th>\n",
       "      <td>C_ID_0001238066</td>\n",
       "      <td>123</td>\n",
       "      <td>120.0</td>\n",
       "      <td>0.975610</td>\n",
       "      <td>121.0</td>\n",
       "      <td>0.983740</td>\n",
       "      <td>0.772358</td>\n",
       "      <td>95.0</td>\n",
       "      <td>0.000000</td>\n",
       "      <td>0.0</td>\n",
       "      <td>...</td>\n",
       "      <td>1.506638e+09</td>\n",
       "      <td>-5</td>\n",
       "      <td>0</td>\n",
       "      <td>29</td>\n",
       "      <td>6</td>\n",
       "      <td>17</td>\n",
       "      <td>18</td>\n",
       "      <td>10</td>\n",
       "      <td>11</td>\n",
       "      <td>10.065041</td>\n",
       "    </tr>\n",
       "    <tr>\n",
       "      <th>2</th>\n",
       "      <td>C_ID_0001506ef0</td>\n",
       "      <td>66</td>\n",
       "      <td>62.0</td>\n",
       "      <td>0.939394</td>\n",
       "      <td>66.0</td>\n",
       "      <td>1.000000</td>\n",
       "      <td>0.030303</td>\n",
       "      <td>2.0</td>\n",
       "      <td>0.000000</td>\n",
       "      <td>0.0</td>\n",
       "      <td>...</td>\n",
       "      <td>1.484411e+09</td>\n",
       "      <td>-13</td>\n",
       "      <td>0</td>\n",
       "      <td>19</td>\n",
       "      <td>2</td>\n",
       "      <td>12</td>\n",
       "      <td>3</td>\n",
       "      <td>10</td>\n",
       "      <td>11</td>\n",
       "      <td>10.166667</td>\n",
       "    </tr>\n",
       "    <tr>\n",
       "      <th>3</th>\n",
       "      <td>C_ID_0001793786</td>\n",
       "      <td>216</td>\n",
       "      <td>189.0</td>\n",
       "      <td>0.875000</td>\n",
       "      <td>214.0</td>\n",
       "      <td>0.990741</td>\n",
       "      <td>0.050926</td>\n",
       "      <td>11.0</td>\n",
       "      <td>0.351852</td>\n",
       "      <td>76.0</td>\n",
       "      <td>...</td>\n",
       "      <td>1.484994e+09</td>\n",
       "      <td>-9</td>\n",
       "      <td>0</td>\n",
       "      <td>48</td>\n",
       "      <td>4</td>\n",
       "      <td>24</td>\n",
       "      <td>10</td>\n",
       "      <td>14</td>\n",
       "      <td>15</td>\n",
       "      <td>14.148148</td>\n",
       "    </tr>\n",
       "    <tr>\n",
       "      <th>4</th>\n",
       "      <td>C_ID_000183fdda</td>\n",
       "      <td>144</td>\n",
       "      <td>137.0</td>\n",
       "      <td>0.951389</td>\n",
       "      <td>140.0</td>\n",
       "      <td>0.972222</td>\n",
       "      <td>0.048611</td>\n",
       "      <td>7.0</td>\n",
       "      <td>0.006944</td>\n",
       "      <td>1.0</td>\n",
       "      <td>...</td>\n",
       "      <td>1.502099e+09</td>\n",
       "      <td>-6</td>\n",
       "      <td>0</td>\n",
       "      <td>36</td>\n",
       "      <td>7</td>\n",
       "      <td>21</td>\n",
       "      <td>9</td>\n",
       "      <td>10</td>\n",
       "      <td>11</td>\n",
       "      <td>10.090278</td>\n",
       "    </tr>\n",
       "  </tbody>\n",
       "</table>\n",
       "<p>5 rows × 49 columns</p>\n",
       "</div>"
      ],
      "text/plain": [
       "           card_id  hist_transactions_count  hist_authorized_flag_sum  \\\n",
       "0  C_ID_00007093c1                      149                     114.0   \n",
       "1  C_ID_0001238066                      123                     120.0   \n",
       "2  C_ID_0001506ef0                       66                      62.0   \n",
       "3  C_ID_0001793786                      216                     189.0   \n",
       "4  C_ID_000183fdda                      144                     137.0   \n",
       "\n",
       "   hist_authorized_flag_mean  hist_category_1_sum  hist_category_1_mean  \\\n",
       "0                   0.765101                121.0              0.812081   \n",
       "1                   0.975610                121.0              0.983740   \n",
       "2                   0.939394                 66.0              1.000000   \n",
       "3                   0.875000                214.0              0.990741   \n",
       "4                   0.951389                140.0              0.972222   \n",
       "\n",
       "   hist_category_2_1.0_mean  hist_category_2_1.0_sum  \\\n",
       "0                  0.000000                      0.0   \n",
       "1                  0.772358                     95.0   \n",
       "2                  0.030303                      2.0   \n",
       "3                  0.050926                     11.0   \n",
       "4                  0.048611                      7.0   \n",
       "\n",
       "   hist_category_2_2.0_mean  hist_category_2_2.0_sum          ...           \\\n",
       "0                  0.000000                      0.0          ...            \n",
       "1                  0.000000                      0.0          ...            \n",
       "2                  0.000000                      0.0          ...            \n",
       "3                  0.351852                     76.0          ...            \n",
       "4                  0.006944                      1.0          ...            \n",
       "\n",
       "   hist_purchase_date_min  hist_month_lag_min  hist_month_lag_max  \\\n",
       "0            1.487081e+09                 -12                   0   \n",
       "1            1.506638e+09                  -5                   0   \n",
       "2            1.484411e+09                 -13                   0   \n",
       "3            1.484994e+09                  -9                   0   \n",
       "4            1.502099e+09                  -6                   0   \n",
       "\n",
       "   hist_merchant_category_id_nunique  hist_state_id_nunique  \\\n",
       "0                                 18                      3   \n",
       "1                                 29                      6   \n",
       "2                                 19                      2   \n",
       "3                                 48                      4   \n",
       "4                                 36                      7   \n",
       "\n",
       "   hist_subsector_id_nunique  hist_city_id_nunique  hist_month_diff_min  \\\n",
       "0                         13                     4                   10   \n",
       "1                         17                    18                   10   \n",
       "2                         12                     3                   10   \n",
       "3                         24                    10                   14   \n",
       "4                         21                     9                   10   \n",
       "\n",
       "   hist_month_diff_max  hist_month_diff_mean  \n",
       "0                   11             10.214765  \n",
       "1                   11             10.065041  \n",
       "2                   11             10.166667  \n",
       "3                   15             14.148148  \n",
       "4                   11             10.090278  \n",
       "\n",
       "[5 rows x 49 columns]"
      ]
     },
     "execution_count": 89,
     "metadata": {},
     "output_type": "execute_result"
    }
   ],
   "source": [
    "history.head()"
   ]
  },
  {
   "cell_type": "code",
   "execution_count": 91,
   "metadata": {
    "collapsed": true
   },
   "outputs": [],
   "source": [
    "train = pd.read_pickle('../data/train.pkl')\n",
    "test = pd.read_pickle('../data/test.pkl')"
   ]
  },
  {
   "cell_type": "code",
   "execution_count": 92,
   "metadata": {
    "collapsed": true
   },
   "outputs": [],
   "source": [
    "train = pd.merge(train, history, on='card_id', how='left')\n",
    "test = pd.merge(test, history, on='card_id', how='left')\n",
    "del history"
   ]
  },
  {
   "cell_type": "code",
   "execution_count": 98,
   "metadata": {
    "collapsed": true
   },
   "outputs": [],
   "source": [
    "final_group = pd.read_pickle('../data/final_group.pkl')"
   ]
  },
  {
   "cell_type": "code",
   "execution_count": 99,
   "metadata": {
    "collapsed": true
   },
   "outputs": [],
   "source": [
    "train = pd.merge(train, final_group, on='card_id')\n",
    "test = pd.merge(test, final_group, on='card_id')\n",
    "gc.collect()\n",
    "del final_group"
   ]
  },
  {
   "cell_type": "code",
   "execution_count": 100,
   "metadata": {
    "collapsed": true
   },
   "outputs": [],
   "source": [
    "pd.to_pickle(train, '../data/train_FG_Hist.pkl')\n",
    "pd.to_pickle(test, '../data/test_FG_Hist.pkl')"
   ]
  },
  {
   "cell_type": "code",
   "execution_count": 102,
   "metadata": {},
   "outputs": [
    {
     "data": {
      "text/html": [
       "<div>\n",
       "<style>\n",
       "    .dataframe thead tr:only-child th {\n",
       "        text-align: right;\n",
       "    }\n",
       "\n",
       "    .dataframe thead th {\n",
       "        text-align: left;\n",
       "    }\n",
       "\n",
       "    .dataframe tbody tr th {\n",
       "        vertical-align: top;\n",
       "    }\n",
       "</style>\n",
       "<table border=\"1\" class=\"dataframe\">\n",
       "  <thead>\n",
       "    <tr style=\"text-align: right;\">\n",
       "      <th></th>\n",
       "      <th>first_active_month</th>\n",
       "      <th>card_id</th>\n",
       "      <th>feature_1</th>\n",
       "      <th>feature_2</th>\n",
       "      <th>feature_3</th>\n",
       "      <th>target</th>\n",
       "      <th>first_active_month_year</th>\n",
       "      <th>first_active_month_weekday</th>\n",
       "      <th>first_active_month_month</th>\n",
       "      <th>elapsed_time</th>\n",
       "      <th>...</th>\n",
       "      <th>installments_sum_mean</th>\n",
       "      <th>installments_sum_std</th>\n",
       "      <th>installments_mean_mean</th>\n",
       "      <th>installments_mean_std</th>\n",
       "      <th>installments_min_mean</th>\n",
       "      <th>installments_min_std</th>\n",
       "      <th>installments_max_mean</th>\n",
       "      <th>installments_max_std</th>\n",
       "      <th>installments_std_mean</th>\n",
       "      <th>installments_std_std</th>\n",
       "    </tr>\n",
       "  </thead>\n",
       "  <tbody>\n",
       "    <tr>\n",
       "      <th>0</th>\n",
       "      <td>2017-06-01</td>\n",
       "      <td>C_ID_92a2005557</td>\n",
       "      <td>5</td>\n",
       "      <td>2</td>\n",
       "      <td>1</td>\n",
       "      <td>-0.820283</td>\n",
       "      <td>2017</td>\n",
       "      <td>3</td>\n",
       "      <td>6</td>\n",
       "      <td>245</td>\n",
       "      <td>...</td>\n",
       "      <td>0.444444</td>\n",
       "      <td>0.726483</td>\n",
       "      <td>0.018182</td>\n",
       "      <td>0.032221</td>\n",
       "      <td>0.000000</td>\n",
       "      <td>0.000000</td>\n",
       "      <td>0.333333</td>\n",
       "      <td>0.500000</td>\n",
       "      <td>0.074290</td>\n",
       "      <td>0.117067</td>\n",
       "    </tr>\n",
       "    <tr>\n",
       "      <th>1</th>\n",
       "      <td>2017-01-01</td>\n",
       "      <td>C_ID_3d0044924f</td>\n",
       "      <td>4</td>\n",
       "      <td>1</td>\n",
       "      <td>0</td>\n",
       "      <td>0.392913</td>\n",
       "      <td>2017</td>\n",
       "      <td>6</td>\n",
       "      <td>1</td>\n",
       "      <td>396</td>\n",
       "      <td>...</td>\n",
       "      <td>41.769231</td>\n",
       "      <td>14.341977</td>\n",
       "      <td>1.713279</td>\n",
       "      <td>0.546685</td>\n",
       "      <td>0.692308</td>\n",
       "      <td>0.751068</td>\n",
       "      <td>6.307692</td>\n",
       "      <td>2.780426</td>\n",
       "      <td>1.478938</td>\n",
       "      <td>0.895708</td>\n",
       "    </tr>\n",
       "    <tr>\n",
       "      <th>2</th>\n",
       "      <td>2016-08-01</td>\n",
       "      <td>C_ID_d639edf6cd</td>\n",
       "      <td>2</td>\n",
       "      <td>2</td>\n",
       "      <td>0</td>\n",
       "      <td>0.688056</td>\n",
       "      <td>2016</td>\n",
       "      <td>0</td>\n",
       "      <td>8</td>\n",
       "      <td>549</td>\n",
       "      <td>...</td>\n",
       "      <td>0.000000</td>\n",
       "      <td>0.000000</td>\n",
       "      <td>0.000000</td>\n",
       "      <td>0.000000</td>\n",
       "      <td>0.000000</td>\n",
       "      <td>0.000000</td>\n",
       "      <td>0.000000</td>\n",
       "      <td>0.000000</td>\n",
       "      <td>0.000000</td>\n",
       "      <td>0.000000</td>\n",
       "    </tr>\n",
       "    <tr>\n",
       "      <th>3</th>\n",
       "      <td>2017-09-01</td>\n",
       "      <td>C_ID_186d6a6901</td>\n",
       "      <td>4</td>\n",
       "      <td>3</td>\n",
       "      <td>0</td>\n",
       "      <td>0.142495</td>\n",
       "      <td>2017</td>\n",
       "      <td>4</td>\n",
       "      <td>9</td>\n",
       "      <td>153</td>\n",
       "      <td>...</td>\n",
       "      <td>14.000000</td>\n",
       "      <td>11.523888</td>\n",
       "      <td>1.044819</td>\n",
       "      <td>0.215637</td>\n",
       "      <td>0.333333</td>\n",
       "      <td>1.032796</td>\n",
       "      <td>2.000000</td>\n",
       "      <td>1.095445</td>\n",
       "      <td>0.518905</td>\n",
       "      <td>0.483284</td>\n",
       "    </tr>\n",
       "    <tr>\n",
       "      <th>4</th>\n",
       "      <td>2017-11-01</td>\n",
       "      <td>C_ID_cdbd2c0db2</td>\n",
       "      <td>1</td>\n",
       "      <td>3</td>\n",
       "      <td>0</td>\n",
       "      <td>-0.159749</td>\n",
       "      <td>2017</td>\n",
       "      <td>2</td>\n",
       "      <td>11</td>\n",
       "      <td>92</td>\n",
       "      <td>...</td>\n",
       "      <td>45.500000</td>\n",
       "      <td>23.979158</td>\n",
       "      <td>1.369969</td>\n",
       "      <td>0.597277</td>\n",
       "      <td>1.000000</td>\n",
       "      <td>0.000000</td>\n",
       "      <td>4.500000</td>\n",
       "      <td>5.066228</td>\n",
       "      <td>1.083005</td>\n",
       "      <td>1.664428</td>\n",
       "    </tr>\n",
       "  </tbody>\n",
       "</table>\n",
       "<p>5 rows × 84 columns</p>\n",
       "</div>"
      ],
      "text/plain": [
       "  first_active_month          card_id  feature_1  feature_2  feature_3  \\\n",
       "0         2017-06-01  C_ID_92a2005557          5          2          1   \n",
       "1         2017-01-01  C_ID_3d0044924f          4          1          0   \n",
       "2         2016-08-01  C_ID_d639edf6cd          2          2          0   \n",
       "3         2017-09-01  C_ID_186d6a6901          4          3          0   \n",
       "4         2017-11-01  C_ID_cdbd2c0db2          1          3          0   \n",
       "\n",
       "     target  first_active_month_year  first_active_month_weekday  \\\n",
       "0 -0.820283                     2017                           3   \n",
       "1  0.392913                     2017                           6   \n",
       "2  0.688056                     2016                           0   \n",
       "3  0.142495                     2017                           4   \n",
       "4 -0.159749                     2017                           2   \n",
       "\n",
       "   first_active_month_month  elapsed_time          ...           \\\n",
       "0                         6           245          ...            \n",
       "1                         1           396          ...            \n",
       "2                         8           549          ...            \n",
       "3                         9           153          ...            \n",
       "4                        11            92          ...            \n",
       "\n",
       "   installments_sum_mean  installments_sum_std  installments_mean_mean  \\\n",
       "0               0.444444              0.726483                0.018182   \n",
       "1              41.769231             14.341977                1.713279   \n",
       "2               0.000000              0.000000                0.000000   \n",
       "3              14.000000             11.523888                1.044819   \n",
       "4              45.500000             23.979158                1.369969   \n",
       "\n",
       "   installments_mean_std  installments_min_mean  installments_min_std  \\\n",
       "0               0.032221               0.000000              0.000000   \n",
       "1               0.546685               0.692308              0.751068   \n",
       "2               0.000000               0.000000              0.000000   \n",
       "3               0.215637               0.333333              1.032796   \n",
       "4               0.597277               1.000000              0.000000   \n",
       "\n",
       "   installments_max_mean  installments_max_std  installments_std_mean  \\\n",
       "0               0.333333              0.500000               0.074290   \n",
       "1               6.307692              2.780426               1.478938   \n",
       "2               0.000000              0.000000               0.000000   \n",
       "3               2.000000              1.095445               0.518905   \n",
       "4               4.500000              5.066228               1.083005   \n",
       "\n",
       "   installments_std_std  \n",
       "0              0.117067  \n",
       "1              0.895708  \n",
       "2              0.000000  \n",
       "3              0.483284  \n",
       "4              1.664428  \n",
       "\n",
       "[5 rows x 84 columns]"
      ]
     },
     "execution_count": 102,
     "metadata": {},
     "output_type": "execute_result"
    }
   ],
   "source": [
    "train.head()"
   ]
  },
  {
   "cell_type": "markdown",
   "metadata": {},
   "source": [
    "# merchants"
   ]
  },
  {
   "cell_type": "code",
   "execution_count": 3,
   "metadata": {},
   "outputs": [
    {
     "data": {
      "text/html": [
       "<div>\n",
       "<style>\n",
       "    .dataframe thead tr:only-child th {\n",
       "        text-align: right;\n",
       "    }\n",
       "\n",
       "    .dataframe thead th {\n",
       "        text-align: left;\n",
       "    }\n",
       "\n",
       "    .dataframe tbody tr th {\n",
       "        vertical-align: top;\n",
       "    }\n",
       "</style>\n",
       "<table border=\"1\" class=\"dataframe\">\n",
       "  <thead>\n",
       "    <tr style=\"text-align: right;\">\n",
       "      <th></th>\n",
       "      <th>merchants.csv</th>\n",
       "      <th>Unnamed: 1</th>\n",
       "    </tr>\n",
       "  </thead>\n",
       "  <tbody>\n",
       "    <tr>\n",
       "      <th>0</th>\n",
       "      <td>NaN</td>\n",
       "      <td>NaN</td>\n",
       "    </tr>\n",
       "    <tr>\n",
       "      <th>1</th>\n",
       "      <td>Columns</td>\n",
       "      <td>Description</td>\n",
       "    </tr>\n",
       "    <tr>\n",
       "      <th>2</th>\n",
       "      <td>merchant_id</td>\n",
       "      <td>Unique merchant identifier</td>\n",
       "    </tr>\n",
       "    <tr>\n",
       "      <th>3</th>\n",
       "      <td>merchant_group_id</td>\n",
       "      <td>Merchant group (anonymized )</td>\n",
       "    </tr>\n",
       "    <tr>\n",
       "      <th>4</th>\n",
       "      <td>merchant_category_id</td>\n",
       "      <td>Unique identifier for merchant category (anony...</td>\n",
       "    </tr>\n",
       "    <tr>\n",
       "      <th>5</th>\n",
       "      <td>subsector_id</td>\n",
       "      <td>Merchant category group (anonymized )</td>\n",
       "    </tr>\n",
       "    <tr>\n",
       "      <th>6</th>\n",
       "      <td>numerical_1</td>\n",
       "      <td>anonymized measure</td>\n",
       "    </tr>\n",
       "    <tr>\n",
       "      <th>7</th>\n",
       "      <td>numerical_2</td>\n",
       "      <td>anonymized measure</td>\n",
       "    </tr>\n",
       "    <tr>\n",
       "      <th>8</th>\n",
       "      <td>category_1</td>\n",
       "      <td>anonymized category</td>\n",
       "    </tr>\n",
       "    <tr>\n",
       "      <th>9</th>\n",
       "      <td>most_recent_sales_range</td>\n",
       "      <td>Range of revenue (monetary units) in last acti...</td>\n",
       "    </tr>\n",
       "    <tr>\n",
       "      <th>10</th>\n",
       "      <td>most_recent_purchases_range</td>\n",
       "      <td>Range of quantity of transactions in last acti...</td>\n",
       "    </tr>\n",
       "    <tr>\n",
       "      <th>11</th>\n",
       "      <td>avg_sales_lag3</td>\n",
       "      <td>Monthly average of revenue in last 3 months di...</td>\n",
       "    </tr>\n",
       "    <tr>\n",
       "      <th>12</th>\n",
       "      <td>avg_purchases_lag3</td>\n",
       "      <td>Monthly average of transactions in last 3 mont...</td>\n",
       "    </tr>\n",
       "    <tr>\n",
       "      <th>13</th>\n",
       "      <td>active_months_lag3</td>\n",
       "      <td>Quantity of active months within last 3 months</td>\n",
       "    </tr>\n",
       "    <tr>\n",
       "      <th>14</th>\n",
       "      <td>avg_sales_lag6</td>\n",
       "      <td>Monthly average of revenue in last 6 months di...</td>\n",
       "    </tr>\n",
       "    <tr>\n",
       "      <th>15</th>\n",
       "      <td>avg_purchases_lag6</td>\n",
       "      <td>Monthly average of transactions in last 6 mont...</td>\n",
       "    </tr>\n",
       "    <tr>\n",
       "      <th>16</th>\n",
       "      <td>active_months_lag6</td>\n",
       "      <td>Quantity of active months within last 6 months</td>\n",
       "    </tr>\n",
       "    <tr>\n",
       "      <th>17</th>\n",
       "      <td>avg_sales_lag12</td>\n",
       "      <td>Monthly average of revenue in last 12 months d...</td>\n",
       "    </tr>\n",
       "    <tr>\n",
       "      <th>18</th>\n",
       "      <td>avg_purchases_lag12</td>\n",
       "      <td>Monthly average of transactions in last 12 mon...</td>\n",
       "    </tr>\n",
       "    <tr>\n",
       "      <th>19</th>\n",
       "      <td>active_months_lag12</td>\n",
       "      <td>Quantity of active months within last 12 months</td>\n",
       "    </tr>\n",
       "    <tr>\n",
       "      <th>20</th>\n",
       "      <td>category_4</td>\n",
       "      <td>anonymized category</td>\n",
       "    </tr>\n",
       "    <tr>\n",
       "      <th>21</th>\n",
       "      <td>city_id</td>\n",
       "      <td>City identifier (anonymized )</td>\n",
       "    </tr>\n",
       "    <tr>\n",
       "      <th>22</th>\n",
       "      <td>state_id</td>\n",
       "      <td>State identifier (anonymized )</td>\n",
       "    </tr>\n",
       "    <tr>\n",
       "      <th>23</th>\n",
       "      <td>category_2</td>\n",
       "      <td>anonymized category</td>\n",
       "    </tr>\n",
       "  </tbody>\n",
       "</table>\n",
       "</div>"
      ],
      "text/plain": [
       "                  merchants.csv  \\\n",
       "0                           NaN   \n",
       "1                       Columns   \n",
       "2                   merchant_id   \n",
       "3             merchant_group_id   \n",
       "4          merchant_category_id   \n",
       "5                  subsector_id   \n",
       "6                   numerical_1   \n",
       "7                   numerical_2   \n",
       "8                    category_1   \n",
       "9       most_recent_sales_range   \n",
       "10  most_recent_purchases_range   \n",
       "11               avg_sales_lag3   \n",
       "12           avg_purchases_lag3   \n",
       "13           active_months_lag3   \n",
       "14               avg_sales_lag6   \n",
       "15           avg_purchases_lag6   \n",
       "16           active_months_lag6   \n",
       "17              avg_sales_lag12   \n",
       "18          avg_purchases_lag12   \n",
       "19          active_months_lag12   \n",
       "20                   category_4   \n",
       "21                      city_id   \n",
       "22                     state_id   \n",
       "23                   category_2   \n",
       "\n",
       "                                           Unnamed: 1  \n",
       "0                                                 NaN  \n",
       "1                                         Description  \n",
       "2                          Unique merchant identifier  \n",
       "3                        Merchant group (anonymized )  \n",
       "4   Unique identifier for merchant category (anony...  \n",
       "5               Merchant category group (anonymized )  \n",
       "6                                  anonymized measure  \n",
       "7                                  anonymized measure  \n",
       "8                                 anonymized category  \n",
       "9   Range of revenue (monetary units) in last acti...  \n",
       "10  Range of quantity of transactions in last acti...  \n",
       "11  Monthly average of revenue in last 3 months di...  \n",
       "12  Monthly average of transactions in last 3 mont...  \n",
       "13     Quantity of active months within last 3 months  \n",
       "14  Monthly average of revenue in last 6 months di...  \n",
       "15  Monthly average of transactions in last 6 mont...  \n",
       "16     Quantity of active months within last 6 months  \n",
       "17  Monthly average of revenue in last 12 months d...  \n",
       "18  Monthly average of transactions in last 12 mon...  \n",
       "19    Quantity of active months within last 12 months  \n",
       "20                                anonymized category  \n",
       "21                      City identifier (anonymized )  \n",
       "22                     State identifier (anonymized )  \n",
       "23                                anonymized category  "
      ]
     },
     "metadata": {},
     "output_type": "display_data"
    },
    {
     "data": {
      "text/html": [
       "<div>\n",
       "<style>\n",
       "    .dataframe thead tr:only-child th {\n",
       "        text-align: right;\n",
       "    }\n",
       "\n",
       "    .dataframe thead th {\n",
       "        text-align: left;\n",
       "    }\n",
       "\n",
       "    .dataframe tbody tr th {\n",
       "        vertical-align: top;\n",
       "    }\n",
       "</style>\n",
       "<table border=\"1\" class=\"dataframe\">\n",
       "  <thead>\n",
       "    <tr style=\"text-align: right;\">\n",
       "      <th></th>\n",
       "      <th>merchant_id</th>\n",
       "      <th>merchant_group_id</th>\n",
       "      <th>merchant_category_id</th>\n",
       "      <th>subsector_id</th>\n",
       "      <th>numerical_1</th>\n",
       "      <th>numerical_2</th>\n",
       "      <th>category_1</th>\n",
       "      <th>most_recent_sales_range</th>\n",
       "      <th>most_recent_purchases_range</th>\n",
       "      <th>avg_sales_lag3</th>\n",
       "      <th>...</th>\n",
       "      <th>avg_sales_lag6</th>\n",
       "      <th>avg_purchases_lag6</th>\n",
       "      <th>active_months_lag6</th>\n",
       "      <th>avg_sales_lag12</th>\n",
       "      <th>avg_purchases_lag12</th>\n",
       "      <th>active_months_lag12</th>\n",
       "      <th>category_4</th>\n",
       "      <th>city_id</th>\n",
       "      <th>state_id</th>\n",
       "      <th>category_2</th>\n",
       "    </tr>\n",
       "  </thead>\n",
       "  <tbody>\n",
       "    <tr>\n",
       "      <th>0</th>\n",
       "      <td>M_ID_838061e48c</td>\n",
       "      <td>8353</td>\n",
       "      <td>792</td>\n",
       "      <td>9</td>\n",
       "      <td>-0.057471</td>\n",
       "      <td>-0.057471</td>\n",
       "      <td>N</td>\n",
       "      <td>E</td>\n",
       "      <td>E</td>\n",
       "      <td>-0.40</td>\n",
       "      <td>...</td>\n",
       "      <td>-2.25</td>\n",
       "      <td>18.666667</td>\n",
       "      <td>6</td>\n",
       "      <td>-2.32</td>\n",
       "      <td>13.916667</td>\n",
       "      <td>12</td>\n",
       "      <td>N</td>\n",
       "      <td>242</td>\n",
       "      <td>9</td>\n",
       "      <td>1.0</td>\n",
       "    </tr>\n",
       "    <tr>\n",
       "      <th>1</th>\n",
       "      <td>M_ID_9339d880ad</td>\n",
       "      <td>3184</td>\n",
       "      <td>840</td>\n",
       "      <td>20</td>\n",
       "      <td>-0.057471</td>\n",
       "      <td>-0.057471</td>\n",
       "      <td>N</td>\n",
       "      <td>E</td>\n",
       "      <td>E</td>\n",
       "      <td>-0.72</td>\n",
       "      <td>...</td>\n",
       "      <td>-0.74</td>\n",
       "      <td>1.291667</td>\n",
       "      <td>6</td>\n",
       "      <td>-0.57</td>\n",
       "      <td>1.687500</td>\n",
       "      <td>12</td>\n",
       "      <td>N</td>\n",
       "      <td>22</td>\n",
       "      <td>16</td>\n",
       "      <td>1.0</td>\n",
       "    </tr>\n",
       "    <tr>\n",
       "      <th>2</th>\n",
       "      <td>M_ID_e726bbae1e</td>\n",
       "      <td>447</td>\n",
       "      <td>690</td>\n",
       "      <td>1</td>\n",
       "      <td>-0.057471</td>\n",
       "      <td>-0.057471</td>\n",
       "      <td>N</td>\n",
       "      <td>E</td>\n",
       "      <td>E</td>\n",
       "      <td>-82.13</td>\n",
       "      <td>...</td>\n",
       "      <td>-82.13</td>\n",
       "      <td>260.000000</td>\n",
       "      <td>2</td>\n",
       "      <td>-82.13</td>\n",
       "      <td>260.000000</td>\n",
       "      <td>2</td>\n",
       "      <td>N</td>\n",
       "      <td>-1</td>\n",
       "      <td>5</td>\n",
       "      <td>5.0</td>\n",
       "    </tr>\n",
       "    <tr>\n",
       "      <th>3</th>\n",
       "      <td>M_ID_a70e9c5f81</td>\n",
       "      <td>5026</td>\n",
       "      <td>792</td>\n",
       "      <td>9</td>\n",
       "      <td>-0.057471</td>\n",
       "      <td>-0.057471</td>\n",
       "      <td>Y</td>\n",
       "      <td>E</td>\n",
       "      <td>E</td>\n",
       "      <td>NaN</td>\n",
       "      <td>...</td>\n",
       "      <td>NaN</td>\n",
       "      <td>4.666667</td>\n",
       "      <td>6</td>\n",
       "      <td>NaN</td>\n",
       "      <td>3.833333</td>\n",
       "      <td>12</td>\n",
       "      <td>Y</td>\n",
       "      <td>-1</td>\n",
       "      <td>-1</td>\n",
       "      <td>NaN</td>\n",
       "    </tr>\n",
       "    <tr>\n",
       "      <th>4</th>\n",
       "      <td>M_ID_64456c37ce</td>\n",
       "      <td>2228</td>\n",
       "      <td>222</td>\n",
       "      <td>21</td>\n",
       "      <td>-0.057471</td>\n",
       "      <td>-0.057471</td>\n",
       "      <td>Y</td>\n",
       "      <td>E</td>\n",
       "      <td>E</td>\n",
       "      <td>NaN</td>\n",
       "      <td>...</td>\n",
       "      <td>NaN</td>\n",
       "      <td>0.361111</td>\n",
       "      <td>6</td>\n",
       "      <td>NaN</td>\n",
       "      <td>0.347222</td>\n",
       "      <td>12</td>\n",
       "      <td>Y</td>\n",
       "      <td>-1</td>\n",
       "      <td>-1</td>\n",
       "      <td>NaN</td>\n",
       "    </tr>\n",
       "  </tbody>\n",
       "</table>\n",
       "<p>5 rows × 22 columns</p>\n",
       "</div>"
      ],
      "text/plain": [
       "       merchant_id  merchant_group_id  merchant_category_id  subsector_id  \\\n",
       "0  M_ID_838061e48c               8353                   792             9   \n",
       "1  M_ID_9339d880ad               3184                   840            20   \n",
       "2  M_ID_e726bbae1e                447                   690             1   \n",
       "3  M_ID_a70e9c5f81               5026                   792             9   \n",
       "4  M_ID_64456c37ce               2228                   222            21   \n",
       "\n",
       "   numerical_1  numerical_2 category_1 most_recent_sales_range  \\\n",
       "0    -0.057471    -0.057471          N                       E   \n",
       "1    -0.057471    -0.057471          N                       E   \n",
       "2    -0.057471    -0.057471          N                       E   \n",
       "3    -0.057471    -0.057471          Y                       E   \n",
       "4    -0.057471    -0.057471          Y                       E   \n",
       "\n",
       "  most_recent_purchases_range  avg_sales_lag3     ...      avg_sales_lag6  \\\n",
       "0                           E           -0.40     ...               -2.25   \n",
       "1                           E           -0.72     ...               -0.74   \n",
       "2                           E          -82.13     ...              -82.13   \n",
       "3                           E             NaN     ...                 NaN   \n",
       "4                           E             NaN     ...                 NaN   \n",
       "\n",
       "   avg_purchases_lag6  active_months_lag6  avg_sales_lag12  \\\n",
       "0           18.666667                   6            -2.32   \n",
       "1            1.291667                   6            -0.57   \n",
       "2          260.000000                   2           -82.13   \n",
       "3            4.666667                   6              NaN   \n",
       "4            0.361111                   6              NaN   \n",
       "\n",
       "   avg_purchases_lag12  active_months_lag12  category_4  city_id state_id  \\\n",
       "0            13.916667                   12           N      242        9   \n",
       "1             1.687500                   12           N       22       16   \n",
       "2           260.000000                    2           N       -1        5   \n",
       "3             3.833333                   12           Y       -1       -1   \n",
       "4             0.347222                   12           Y       -1       -1   \n",
       "\n",
       "   category_2  \n",
       "0         1.0  \n",
       "1         1.0  \n",
       "2         5.0  \n",
       "3         NaN  \n",
       "4         NaN  \n",
       "\n",
       "[5 rows x 22 columns]"
      ]
     },
     "metadata": {},
     "output_type": "display_data"
    }
   ],
   "source": [
    "merchants = pd.read_csv('../data/merchants.csv')\n",
    "e = pd.read_excel('../data/Data_Dictionary.xlsx', sheetname='merchant')\n",
    "display(e, merchants.head())"
   ]
  },
  {
   "cell_type": "code",
   "execution_count": 4,
   "metadata": {
    "collapsed": true
   },
   "outputs": [],
   "source": [
    "# encoding categories.\n",
    "map_dict = {'Y': 0, 'N': 1}\n",
    "merchants['category_1'] = merchants['category_1'].apply(lambda x: map_dict[x])\n",
    "merchants.loc[merchants['category_2'].isnull(), 'category_2'] = 0\n",
    "merchants['category_4'] = merchants['category_4'].apply(lambda x: map_dict[x])"
   ]
  },
  {
   "cell_type": "code",
   "execution_count": 5,
   "metadata": {},
   "outputs": [
    {
     "data": {
      "text/plain": [
       "(324, 109391)"
      ]
     },
     "execution_count": 5,
     "metadata": {},
     "output_type": "execute_result"
    }
   ],
   "source": [
    "merchants['merchant_category_id'].nunique(), merchants['merchant_group_id'].nunique()"
   ]
  },
  {
   "cell_type": "markdown",
   "metadata": {},
   "source": [
    "## nurmerical"
   ]
  },
  {
   "cell_type": "code",
   "execution_count": 6,
   "metadata": {},
   "outputs": [
    {
     "data": {
      "image/png": "[encoded data removed]",
      "text/plain": [
       "<matplotlib.figure.Figure at 0x107acba90>"
      ]
     },
     "metadata": {},
     "output_type": "display_data"
    }
   ],
   "source": [
    "plt.hist(merchants['numerical_1']);\n",
    "plt.title('Distribution of numerical_1');"
   ]
  },
  {
   "cell_type": "code",
   "execution_count": 7,
   "metadata": {},
   "outputs": [
    {
     "data": {
      "image/png": "[encoded data removed]",
      "text/plain": [
       "<matplotlib.figure.Figure at 0x106cf65f8>"
      ]
     },
     "metadata": {},
     "output_type": "display_data"
    }
   ],
   "source": [
    "plt.hist(merchants.loc[merchants['numerical_1'] < 0.1, 'numerical_1']);\n",
    "plt.title('Distribution of numerical_1 less than 0.1');"
   ]
  },
  {
   "cell_type": "code",
   "execution_count": 8,
   "metadata": {},
   "outputs": [
    {
     "name": "stdout",
     "output_type": "stream",
     "text": [
      "68.3570% of values in numerical_1 are equal to -0.05747065\n"
     ]
    }
   ],
   "source": [
    "min_n1 = merchants['numerical_1'].min()\n",
    "_ = sum(merchants['numerical_1'] == min_n1) / merchants['numerical_1'].shape[0]\n",
    "print(f'{_ * 100:.4f}% of values in numerical_1 are equal to {min_n1}')"
   ]
  },
  {
   "cell_type": "code",
   "execution_count": 9,
   "metadata": {},
   "outputs": [
    {
     "name": "stdout",
     "output_type": "stream",
     "text": [
      "74.3104% of values in numerical_2 are equal to -0.05747065\n"
     ]
    },
    {
     "data": {
      "image/png": "[encoded data removed]",
      "text/plain": [
       "<matplotlib.figure.Figure at 0x107acb828>"
      ]
     },
     "metadata": {},
     "output_type": "display_data"
    }
   ],
   "source": [
    "plt.hist(merchants.loc[merchants['numerical_2'] < 0.1, 'numerical_2']);\n",
    "plt.title('Distribution of numerical_2 less than 0.1');\n",
    "min_n2 = merchants['numerical_2'].min()\n",
    "_ = sum(merchants['numerical_2'] == min_n2) / merchants['numerical_2'].shape[0]\n",
    "print(f'{_ * 100:.4f}% of values in numerical_2 are equal to {min_n2}')"
   ]
  },
  {
   "cell_type": "code",
   "execution_count": 10,
   "metadata": {},
   "outputs": [
    {
     "data": {
      "text/plain": [
       "0.10056289886942181"
      ]
     },
     "execution_count": 10,
     "metadata": {},
     "output_type": "execute_result"
    }
   ],
   "source": [
    "(merchants['numerical_1'] != merchants['numerical_2']).sum() / merchants.shape[0]\n",
    "# 10%1の値以外は同じ値をとる "
   ]
  },
  {
   "cell_type": "code",
   "execution_count": 11,
   "metadata": {},
   "outputs": [
    {
     "data": {
      "text/plain": [
       "<matplotlib.axes._subplots.AxesSubplot at 0x11b55d2e8>"
      ]
     },
     "execution_count": 11,
     "metadata": {},
     "output_type": "execute_result"
    },
    {
     "data": {
      "image/png": "[encoded data removed]",
      "text/plain": [
       "<matplotlib.figure.Figure at 0x11ad779e8>"
      ]
     },
     "metadata": {},
     "output_type": "display_data"
    }
   ],
   "source": [
    "merchants.most_recent_sales_range.value_counts().plot('bar')"
   ]
  },
  {
   "cell_type": "code",
   "execution_count": 12,
   "metadata": {},
   "outputs": [
    {
     "data": {
      "application/vnd.plotly.v1+json": {
       "config": {
        "linkText": "Export to plot.ly",
        "plotlyServerURL": "https://plot.ly",
        "showLink": true
       },
       "data": [
        {
         "name": "counts",
         "type": "bar",
         "uid": "7287f3ca-96b6-4c69-814f-416cba2abe8b",
         "x": [
          "A",
          "B",
          "C",
          "D",
          "E"
         ],
         "y": [
          1005,
          5037,
          34075,
          117475,
          177104
         ]
        },
        {
         "name": "mean numerical_1",
         "type": "scatter",
         "uid": "1e0dcfad-c6db-49ee-b6be-4b4974e249ce",
         "x": [
          "A",
          "B",
          "C",
          "D",
          "E"
         ],
         "y": [
          0.10479029298398836,
          -0.0001798100400573836,
          -0.039051173269590886,
          -0.04723984384923806,
          -0.05117932493828943
         ],
         "yaxis": "y2"
        }
       ],
       "layout": {
        "legend": {
         "orientation": "v"
        },
        "title": "Counts of values in categories of most_recent_sales_range",
        "xaxis": {
         "title": "most_recent_sales_range"
        },
        "yaxis": {
         "title": "Counts"
        },
        "yaxis2": {
         "overlaying": "y",
         "side": "right",
         "title": "mean numerical_1"
        }
       }
      },
      "text/html": [
       "<div id=\"20ed19ef-fd72-4a9b-8a6a-359a1c8e902f\" style=\"height: 525px; width: 100%;\" class=\"plotly-graph-div\"></div><script type=\"text/javascript\">require([\"plotly\"], function(Plotly) { window.PLOTLYENV=window.PLOTLYENV || {};window.PLOTLYENV.BASE_URL=\"https://plot.ly\";Plotly.newPlot(\"20ed19ef-fd72-4a9b-8a6a-359a1c8e902f\", [{\"name\": \"counts\", \"x\": [\"A\", \"B\", \"C\", \"D\", \"E\"], \"y\": [1005, 5037, 34075, 117475, 177104], \"type\": \"bar\", \"uid\": \"fb72fa2e-9e6d-47ca-9a40-cddbd5051422\"}, {\"name\": \"mean numerical_1\", \"x\": [\"A\", \"B\", \"C\", \"D\", \"E\"], \"y\": [0.10479029298398836, -0.0001798100400573836, -0.039051173269590886, -0.04723984384923806, -0.05117932493828943], \"yaxis\": \"y2\", \"type\": \"scatter\", \"uid\": \"17d5659e-23cb-4bdc-a967-3b87fdbc59ff\"}], {\"legend\": {\"orientation\": \"v\"}, \"title\": \"Counts of values in categories of most_recent_sales_range\", \"xaxis\": {\"title\": \"most_recent_sales_range\"}, \"yaxis\": {\"title\": \"Counts\"}, \"yaxis2\": {\"overlaying\": \"y\", \"side\": \"right\", \"title\": \"mean numerical_1\"}}, {\"showLink\": true, \"linkText\": \"Export to plot.ly\", \"plotlyServerURL\": \"https://plot.ly\"})});</script><script type=\"text/javascript\">window.addEventListener(\"resize\", function(){window._Plotly.Plots.resize(document.getElementById(\"20ed19ef-fd72-4a9b-8a6a-359a1c8e902f\"));});</script>"
      ],
      "text/vnd.plotly.v1+html": [
       "<div id=\"20ed19ef-fd72-4a9b-8a6a-359a1c8e902f\" style=\"height: 525px; width: 100%;\" class=\"plotly-graph-div\"></div><script type=\"text/javascript\">require([\"plotly\"], function(Plotly) { window.PLOTLYENV=window.PLOTLYENV || {};window.PLOTLYENV.BASE_URL=\"https://plot.ly\";Plotly.newPlot(\"20ed19ef-fd72-4a9b-8a6a-359a1c8e902f\", [{\"name\": \"counts\", \"x\": [\"A\", \"B\", \"C\", \"D\", \"E\"], \"y\": [1005, 5037, 34075, 117475, 177104], \"type\": \"bar\", \"uid\": \"fb72fa2e-9e6d-47ca-9a40-cddbd5051422\"}, {\"name\": \"mean numerical_1\", \"x\": [\"A\", \"B\", \"C\", \"D\", \"E\"], \"y\": [0.10479029298398836, -0.0001798100400573836, -0.039051173269590886, -0.04723984384923806, -0.05117932493828943], \"yaxis\": \"y2\", \"type\": \"scatter\", \"uid\": \"17d5659e-23cb-4bdc-a967-3b87fdbc59ff\"}], {\"legend\": {\"orientation\": \"v\"}, \"title\": \"Counts of values in categories of most_recent_sales_range\", \"xaxis\": {\"title\": \"most_recent_sales_range\"}, \"yaxis\": {\"title\": \"Counts\"}, \"yaxis2\": {\"overlaying\": \"y\", \"side\": \"right\", \"title\": \"mean numerical_1\"}}, {\"showLink\": true, \"linkText\": \"Export to plot.ly\", \"plotlyServerURL\": \"https://plot.ly\"})});</script><script type=\"text/javascript\">window.addEventListener(\"resize\", function(){window._Plotly.Plots.resize(document.getElementById(\"20ed19ef-fd72-4a9b-8a6a-359a1c8e902f\"));});</script>"
      ]
     },
     "metadata": {},
     "output_type": "display_data"
    }
   ],
   "source": [
    "d = merchants['most_recent_sales_range'].value_counts().sort_index()\n",
    "e = merchants.loc[merchants['numerical_2'] < 0.1].groupby('most_recent_sales_range')['numerical_1'].mean()\n",
    "data = [go.Bar(x=d.index, y=d.values, name='counts'), go.Scatter(x=e.index, y=e.values, name='mean numerical_1', yaxis='y2')]\n",
    "layout = go.Layout(dict(title = \"Counts of values in categories of most_recent_sales_range\",\n",
    "                        xaxis = dict(title = 'most_recent_sales_range'),\n",
    "                        yaxis = dict(title = 'Counts'),\n",
    "                        yaxis2=dict(title='mean numerical_1', overlaying='y', side='right')),\n",
    "                   legend=dict(orientation=\"v\"))\n",
    "py.iplot(dict(data=data, layout=layout))"
   ]
  },
  {
   "cell_type": "code",
   "execution_count": 13,
   "metadata": {},
   "outputs": [
    {
     "data": {
      "application/vnd.plotly.v1+json": {
       "config": {
        "linkText": "Export to plot.ly",
        "plotlyServerURL": "https://plot.ly",
        "showLink": true
       },
       "data": [
        {
         "name": "counts",
         "type": "bar",
         "uid": "070a7857-454d-420f-b214-6766cd2e0dd7",
         "x": [
          "A",
          "B",
          "C",
          "D",
          "E"
         ],
         "y": [
          1010,
          5046,
          34144,
          119187,
          175309
         ]
        },
        {
         "name": "mean numerical_1",
         "type": "scatter",
         "uid": "dd810e0d-f680-4772-911e-d10f3fe440d0",
         "x": [
          "A",
          "B",
          "C",
          "D",
          "E"
         ],
         "y": [
          0.14732742041095895,
          -0.004291256158499916,
          -0.0422496233684207,
          -0.0470960366668142,
          -0.05073033874219551
         ],
         "yaxis": "y2"
        }
       ],
       "layout": {
        "legend": {
         "orientation": "v"
        },
        "title": "Counts of values in categories of most_recent_purchases_range",
        "xaxis": {
         "title": "most_recent_purchases_range"
        },
        "yaxis": {
         "title": "Counts"
        },
        "yaxis2": {
         "overlaying": "y",
         "side": "right",
         "title": "mean numerical_1"
        }
       }
      },
      "text/html": [
       "<div id=\"10dbcc80-b31c-478f-85ec-7a5387a85e8c\" style=\"height: 525px; width: 100%;\" class=\"plotly-graph-div\"></div><script type=\"text/javascript\">require([\"plotly\"], function(Plotly) { window.PLOTLYENV=window.PLOTLYENV || {};window.PLOTLYENV.BASE_URL=\"https://plot.ly\";Plotly.newPlot(\"10dbcc80-b31c-478f-85ec-7a5387a85e8c\", [{\"name\": \"counts\", \"x\": [\"A\", \"B\", \"C\", \"D\", \"E\"], \"y\": [1010, 5046, 34144, 119187, 175309], \"type\": \"bar\", \"uid\": \"cabc3280-4879-4ac7-8a78-f366e89ce9d1\"}, {\"name\": \"mean numerical_1\", \"x\": [\"A\", \"B\", \"C\", \"D\", \"E\"], \"y\": [0.14732742041095895, -0.004291256158499916, -0.0422496233684207, -0.0470960366668142, -0.05073033874219551], \"yaxis\": \"y2\", \"type\": \"scatter\", \"uid\": \"3528ea31-ccff-4f02-af1c-50c3d3347eb8\"}], {\"legend\": {\"orientation\": \"v\"}, \"title\": \"Counts of values in categories of most_recent_purchases_range\", \"xaxis\": {\"title\": \"most_recent_purchases_range\"}, \"yaxis\": {\"title\": \"Counts\"}, \"yaxis2\": {\"overlaying\": \"y\", \"side\": \"right\", \"title\": \"mean numerical_1\"}}, {\"showLink\": true, \"linkText\": \"Export to plot.ly\", \"plotlyServerURL\": \"https://plot.ly\"})});</script><script type=\"text/javascript\">window.addEventListener(\"resize\", function(){window._Plotly.Plots.resize(document.getElementById(\"10dbcc80-b31c-478f-85ec-7a5387a85e8c\"));});</script>"
      ],
      "text/vnd.plotly.v1+html": [
       "<div id=\"10dbcc80-b31c-478f-85ec-7a5387a85e8c\" style=\"height: 525px; width: 100%;\" class=\"plotly-graph-div\"></div><script type=\"text/javascript\">require([\"plotly\"], function(Plotly) { window.PLOTLYENV=window.PLOTLYENV || {};window.PLOTLYENV.BASE_URL=\"https://plot.ly\";Plotly.newPlot(\"10dbcc80-b31c-478f-85ec-7a5387a85e8c\", [{\"name\": \"counts\", \"x\": [\"A\", \"B\", \"C\", \"D\", \"E\"], \"y\": [1010, 5046, 34144, 119187, 175309], \"type\": \"bar\", \"uid\": \"cabc3280-4879-4ac7-8a78-f366e89ce9d1\"}, {\"name\": \"mean numerical_1\", \"x\": [\"A\", \"B\", \"C\", \"D\", \"E\"], \"y\": [0.14732742041095895, -0.004291256158499916, -0.0422496233684207, -0.0470960366668142, -0.05073033874219551], \"yaxis\": \"y2\", \"type\": \"scatter\", \"uid\": \"3528ea31-ccff-4f02-af1c-50c3d3347eb8\"}], {\"legend\": {\"orientation\": \"v\"}, \"title\": \"Counts of values in categories of most_recent_purchases_range\", \"xaxis\": {\"title\": \"most_recent_purchases_range\"}, \"yaxis\": {\"title\": \"Counts\"}, \"yaxis2\": {\"overlaying\": \"y\", \"side\": \"right\", \"title\": \"mean numerical_1\"}}, {\"showLink\": true, \"linkText\": \"Export to plot.ly\", \"plotlyServerURL\": \"https://plot.ly\"})});</script><script type=\"text/javascript\">window.addEventListener(\"resize\", function(){window._Plotly.Plots.resize(document.getElementById(\"10dbcc80-b31c-478f-85ec-7a5387a85e8c\"));});</script>"
      ]
     },
     "metadata": {},
     "output_type": "display_data"
    }
   ],
   "source": [
    "d = merchants['most_recent_purchases_range'].value_counts().sort_index()\n",
    "e = merchants.loc[merchants['numerical_2'] < 0.1].groupby('most_recent_purchases_range')['numerical_1'].mean()\n",
    "data = [go.Bar(x=d.index, y=d.values, name='counts'), go.Scatter(x=e.index, y=e.values, name='mean numerical_1', yaxis='y2')]\n",
    "layout = go.Layout(dict(title = \"Counts of values in categories of most_recent_purchases_range\",\n",
    "                        xaxis = dict(title = 'most_recent_purchases_range'),\n",
    "                        yaxis = dict(title = 'Counts'),\n",
    "                        yaxis2=dict(title='mean numerical_1', overlaying='y', side='right')),\n",
    "                   legend=dict(orientation=\"v\"))\n",
    "py.iplot(dict(data=data, layout=layout))"
   ]
  },
  {
   "cell_type": "code",
   "execution_count": 14,
   "metadata": {},
   "outputs": [
    {
     "data": {
      "text/plain": [
       "0.29326314028252504"
      ]
     },
     "execution_count": 14,
     "metadata": {},
     "output_type": "execute_result"
    }
   ],
   "source": [
    "(merchants.most_recent_purchases_range != merchants.most_recent_sales_range).sum() / merchants.shape[0]"
   ]
  },
  {
   "cell_type": "markdown",
   "metadata": {},
   "source": [
    "salesとpurchasesで違う値をとるのは３割だけ"
   ]
  },
  {
   "cell_type": "markdown",
   "metadata": {},
   "source": [
    "### avg_sales_lag"
   ]
  },
  {
   "cell_type": "code",
   "execution_count": 15,
   "metadata": {},
   "outputs": [
    {
     "data": {
      "text/plain": [
       "<matplotlib.axes._subplots.AxesSubplot at 0x11b562438>"
      ]
     },
     "execution_count": 15,
     "metadata": {},
     "output_type": "execute_result"
    },
    {
     "data": {
      "image/png": "[encoded data removed]",
      "text/plain": [
       "<matplotlib.figure.Figure at 0x11b58f710>"
      ]
     },
     "metadata": {},
     "output_type": "display_data"
    }
   ],
   "source": [
    "merchants['avg_sales_lag3'].fillna(0).hist()"
   ]
  },
  {
   "cell_type": "code",
   "execution_count": 16,
   "metadata": {},
   "outputs": [
    {
     "data": {
      "text/plain": [
       "<matplotlib.axes._subplots.AxesSubplot at 0x11c76bd30>"
      ]
     },
     "execution_count": 16,
     "metadata": {},
     "output_type": "execute_result"
    },
    {
     "data": {
      "image/png": "[encoded data removed]",
      "text/plain": [
       "<matplotlib.figure.Figure at 0x11b46b9e8>"
      ]
     },
     "metadata": {},
     "output_type": "display_data"
    }
   ],
   "source": [
    "merchants.avg_sales_lag6.fillna(0).hist()"
   ]
  },
  {
   "cell_type": "code",
   "execution_count": 17,
   "metadata": {},
   "outputs": [
    {
     "data": {
      "text/plain": [
       "<matplotlib.axes._subplots.AxesSubplot at 0x11cc64160>"
      ]
     },
     "execution_count": 17,
     "metadata": {},
     "output_type": "execute_result"
    },
    {
     "data": {
      "image/png": "[encoded data removed]",
      "text/plain": [
       "<matplotlib.figure.Figure at 0x11cc574e0>"
      ]
     },
     "metadata": {},
     "output_type": "display_data"
    }
   ],
   "source": [
    "merchants.avg_sales_lag12.fillna(0).hist()"
   ]
  },
  {
   "cell_type": "code",
   "execution_count": 18,
   "metadata": {},
   "outputs": [
    {
     "name": "stdout",
     "output_type": "stream",
     "text": [
      "avg_sales_lag3\n",
      "Max value of avg_sales_lag3 is 851844.64\n",
      "Min value of avg_sales_lag3 is -82.13\n",
      "Mean value of avg_sales_lag3 is 13.832992503355294\n",
      "Median value of avg_sales_lag3 is 1.0\n",
      "avg_sales_lag6\n",
      "Max value of avg_sales_lag6 is 1513959.0\n",
      "Min value of avg_sales_lag6 is -82.13\n",
      "Mean value of avg_sales_lag6 is 21.650787132899893\n",
      "Median value of avg_sales_lag6 is 1.01\n",
      "avg_sales_lag12\n",
      "Max value of avg_sales_lag12 is 2567408.0\n",
      "Min value of avg_sales_lag12 is -82.13\n",
      "Mean value of avg_sales_lag12 is 25.227708876757944\n",
      "Median value of avg_sales_lag12 is 1.02\n"
     ]
    }
   ],
   "source": [
    "for col in ['avg_sales_lag3', 'avg_sales_lag6', 'avg_sales_lag12']:\n",
    "    print(col)\n",
    "    print(f'Max value of {col} is {merchants[col].max()}')\n",
    "    print(f'Min value of {col} is {merchants[col].min()}')\n",
    "    print(f'Mean value of {col} is {merchants[col].mean()}')\n",
    "    print(f'Median value of {col} is {merchants[col].median()}')"
   ]
  },
  {
   "cell_type": "code",
   "execution_count": 19,
   "metadata": {},
   "outputs": [
    {
     "data": {
      "image/png": "[encoded data removed]",
      "text/plain": [
       "<matplotlib.figure.Figure at 0x11ceda6a0>"
      ]
     },
     "metadata": {},
     "output_type": "display_data"
    }
   ],
   "source": [
    "plt.hist(merchants.loc[(merchants['avg_sales_lag12'] < 3) & (merchants['avg_sales_lag12'] > -10), 'avg_sales_lag12'].fillna(0), label='avg_sales_lag12');\n",
    "plt.hist(merchants.loc[(merchants['avg_sales_lag6'] < 3) & (merchants['avg_sales_lag6'] > -10), 'avg_sales_lag6'].fillna(0), label='avg_sales_lag6');\n",
    "plt.hist(merchants.loc[(merchants['avg_sales_lag3'] < 3) & (merchants['avg_sales_lag3'] > -10), 'avg_sales_lag3'].fillna(0), label='avg_sales_lag3');\n",
    "plt.legend();"
   ]
  },
  {
   "cell_type": "code",
   "execution_count": 141,
   "metadata": {},
   "outputs": [
    {
     "data": {
      "text/plain": [
       "M_ID_d123532c72    4\n",
       "M_ID_ef233cff26    4\n",
       "M_ID_30340088f2    4\n",
       "M_ID_ebbdb42da6    4\n",
       "M_ID_992a180b15    4\n",
       "Name: merchant_id, dtype: int64"
      ]
     },
     "execution_count": 141,
     "metadata": {},
     "output_type": "execute_result"
    }
   ],
   "source": [
    "merchants.merchant_id.value_counts().head()"
   ]
  },
  {
   "cell_type": "code",
   "execution_count": 142,
   "metadata": {},
   "outputs": [
    {
     "data": {
      "text/plain": [
       "35      46026\n",
       "434       482\n",
       "419       365\n",
       "713       333\n",
       "3648      305\n",
       "Name: merchant_group_id, dtype: int64"
      ]
     },
     "execution_count": 142,
     "metadata": {},
     "output_type": "execute_result"
    }
   ],
   "source": [
    "merchants.merchant_group_id.value_counts().head()"
   ]
  },
  {
   "cell_type": "code",
   "execution_count": 143,
   "metadata": {},
   "outputs": [
    {
     "data": {
      "text/plain": [
       "705    30666\n",
       "278    17992\n",
       "307    17528\n",
       "367    15387\n",
       "68     14341\n",
       "Name: merchant_category_id, dtype: int64"
      ]
     },
     "execution_count": 143,
     "metadata": {},
     "output_type": "execute_result"
    }
   ],
   "source": [
    "merchants.merchant_category_id.value_counts().head()"
   ]
  },
  {
   "cell_type": "code",
   "execution_count": 20,
   "metadata": {
    "collapsed": true
   },
   "outputs": [],
   "source": [
    "merchantsGB = merchants.groupby('merchant_id')"
   ]
  },
  {
   "cell_type": "code",
   "execution_count": 24,
   "metadata": {},
   "outputs": [
    {
     "data": {
      "text/plain": [
       "109391"
      ]
     },
     "execution_count": 24,
     "metadata": {},
     "output_type": "execute_result"
    }
   ],
   "source": [
    "merchants.merchant_group_id.nunique()"
   ]
  },
  {
   "cell_type": "code",
   "execution_count": 25,
   "metadata": {},
   "outputs": [
    {
     "data": {
      "text/plain": [
       "324"
      ]
     },
     "execution_count": 25,
     "metadata": {},
     "output_type": "execute_result"
    }
   ],
   "source": [
    "merchants.merchant_category_id.nunique()"
   ]
  },
  {
   "cell_type": "code",
   "execution_count": 34,
   "metadata": {},
   "outputs": [
    {
     "data": {
      "text/plain": [
       "<matplotlib.axes._subplots.AxesSubplot at 0x11efc1588>"
      ]
     },
     "execution_count": 34,
     "metadata": {},
     "output_type": "execute_result"
    },
    {
     "data": {
      "image/png": "[encoded data removed]",
      "text/plain": [
       "<matplotlib.figure.Figure at 0x120c37748>"
      ]
     },
     "metadata": {},
     "output_type": "display_data"
    }
   ],
   "source": [
    "merchantsGB.avg_sales_lag6.mean().hist(bins = 100)"
   ]
  },
  {
   "cell_type": "code",
   "execution_count": 40,
   "metadata": {},
   "outputs": [
    {
     "data": {
      "text/plain": [
       "<matplotlib.axes._subplots.AxesSubplot at 0x11d1ccda0>"
      ]
     },
     "execution_count": 40,
     "metadata": {},
     "output_type": "execute_result"
    },
    {
     "data": {
      "image/png": "[encoded data removed]",
      "text/plain": [
       "<matplotlib.figure.Figure at 0x1207fbf98>"
      ]
     },
     "metadata": {},
     "output_type": "display_data"
    }
   ],
   "source": [
    " merchants.groupby('merchant_category_id').avg_sales_lag6.median().hist()"
   ]
  },
  {
   "cell_type": "code",
   "execution_count": 39,
   "metadata": {},
   "outputs": [
    {
     "data": {
      "text/plain": [
       "merchant_category_id\n",
       "-1       1.000000\n",
       " 2      62.386287\n",
       " 9       2.977070\n",
       " 11      0.865000\n",
       " 14      1.741971\n",
       " 16      1.987544\n",
       " 18      6.320000\n",
       " 19      3.354404\n",
       " 21      2.097663\n",
       " 31      1.151250\n",
       " 33      1.581098\n",
       " 34      1.630653\n",
       " 36      1.204556\n",
       " 38      1.903303\n",
       " 40      1.429063\n",
       " 45      1.779257\n",
       " 49      3.856667\n",
       " 52      2.768596\n",
       " 53      1.605333\n",
       " 56      1.386667\n",
       " 57      1.807563\n",
       " 59      1.560000\n",
       " 60      4.287726\n",
       " 63      2.928363\n",
       " 67      0.830000\n",
       " 68      2.830227\n",
       " 69      2.519915\n",
       " 71      2.178342\n",
       " 78      2.383883\n",
       " 80      2.971746\n",
       "          ...    \n",
       " 795     1.848252\n",
       " 796    73.442542\n",
       " 803     1.763333\n",
       " 805     5.780000\n",
       " 806     3.009158\n",
       " 808    10.083333\n",
       " 813     2.076955\n",
       " 814     2.041667\n",
       " 818     2.014421\n",
       " 819     6.629868\n",
       " 823     2.273884\n",
       " 827     1.462438\n",
       " 829     1.285490\n",
       " 834     1.404202\n",
       " 836     2.088730\n",
       " 839     2.196494\n",
       " 840     3.515518\n",
       " 842     3.934726\n",
       " 843     1.578115\n",
       " 847    18.393333\n",
       " 854     3.566486\n",
       " 873     2.135882\n",
       " 875     0.770000\n",
       " 878     0.780000\n",
       " 879    11.174468\n",
       " 881     1.300000\n",
       " 884     1.803364\n",
       " 885     1.439730\n",
       " 889     1.085686\n",
       " 891     9.358296\n",
       "Name: avg_sales_lag6, Length: 324, dtype: float64"
      ]
     },
     "execution_count": 39,
     "metadata": {},
     "output_type": "execute_result"
    }
   ],
   "source": [
    "merchants.groupby('merchant_category_id').avg_sales_lag6.mean()"
   ]
  },
  {
   "cell_type": "code",
   "execution_count": null,
   "metadata": {
    "collapsed": true
   },
   "outputs": [],
   "source": []
  }
 ],
 "metadata": {
  "kernelspec": {
   "display_name": "Python 3",
   "language": "python",
   "name": "python3"
  },
  "language_info": {
   "codemirror_mode": {
    "name": "ipython",
    "version": 3
   },
   "file_extension": ".py",
   "mimetype": "text/x-python",
   "name": "python",
   "nbconvert_exporter": "python",
   "pygments_lexer": "ipython3",
   "version": "3.6.3"
  }
 },
 "nbformat": 4,
 "nbformat_minor": 2
}
